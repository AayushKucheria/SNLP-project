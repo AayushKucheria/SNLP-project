{
 "cells": [
  {
   "cell_type": "markdown",
   "id": "91748d70-fe9b-41d7-8def-febf5b284994",
   "metadata": {},
   "source": [
    "# SNLP project - recipe summarisation"
   ]
  },
  {
   "cell_type": "markdown",
   "id": "53aa1cab-f3e4-4361-8eba-fd10c277077f",
   "metadata": {},
   "source": [
    "## Abstract\n",
    "\n",
    "**Objective:**\n",
    "\n",
    "Train and compare models which summarises recipes given the ingredients, instructions, and other details. \n",
    "The data set is sourced from the Spoonacular API. "
   ]
  },
  {
   "cell_type": "markdown",
   "id": "a8fa3dfb-6b04-4cde-8206-08df7f4e24e3",
   "metadata": {},
   "source": [
    "## Data cleaning"
   ]
  },
  {
   "cell_type": "code",
   "execution_count": 5,
   "id": "2b7bb3f5-c9e5-4952-9142-f378e41c9a44",
   "metadata": {},
   "outputs": [],
   "source": [
    "import pandas as pd\n",
    "import numpy as np"
   ]
  },
  {
   "cell_type": "code",
   "execution_count": 6,
   "id": "02451eb1-88c6-42fe-b254-803de5cecf67",
   "metadata": {},
   "outputs": [],
   "source": [
    "df = pd.read_csv(\"./data/cleaneddata.csv\", index_col=0)"
   ]
  },
  {
   "cell_type": "code",
   "execution_count": 7,
   "id": "cf468396-a8ba-4c45-899a-fd395178f5a6",
   "metadata": {},
   "outputs": [
    {
     "data": {
      "text/html": [
       "<div>\n",
       "<style scoped>\n",
       "    .dataframe tbody tr th:only-of-type {\n",
       "        vertical-align: middle;\n",
       "    }\n",
       "\n",
       "    .dataframe tbody tr th {\n",
       "        vertical-align: top;\n",
       "    }\n",
       "\n",
       "    .dataframe thead th {\n",
       "        text-align: right;\n",
       "    }\n",
       "</style>\n",
       "<table border=\"1\" class=\"dataframe\">\n",
       "  <thead>\n",
       "    <tr style=\"text-align: right;\">\n",
       "      <th></th>\n",
       "      <th>title</th>\n",
       "      <th>summary</th>\n",
       "      <th>instructions</th>\n",
       "      <th>Ingredients</th>\n",
       "      <th>vegetarian</th>\n",
       "      <th>vegan</th>\n",
       "      <th>glutenFree</th>\n",
       "      <th>dairyFree</th>\n",
       "      <th>veryHealthy</th>\n",
       "      <th>cheap</th>\n",
       "      <th>veryPopular</th>\n",
       "      <th>sustainable</th>\n",
       "      <th>healthScore</th>\n",
       "      <th>pricePerServing</th>\n",
       "      <th>readyInMinutes</th>\n",
       "      <th>servings</th>\n",
       "      <th>diets</th>\n",
       "    </tr>\n",
       "  </thead>\n",
       "  <tbody>\n",
       "    <tr>\n",
       "      <th>0</th>\n",
       "      <td>Roasted Butternut Squash Bisque</td>\n",
       "      <td>Roasted Butternut Squash Bisque could be just ...</td>\n",
       "      <td>For garlic broth:\\nAdd all ingredients to the ...</td>\n",
       "      <td>extra virgin olive oil; butter; sweet onions; ...</td>\n",
       "      <td>True</td>\n",
       "      <td>False</td>\n",
       "      <td>True</td>\n",
       "      <td>False</td>\n",
       "      <td>False</td>\n",
       "      <td>False</td>\n",
       "      <td>False</td>\n",
       "      <td>False</td>\n",
       "      <td>26.0</td>\n",
       "      <td>510.34</td>\n",
       "      <td>45</td>\n",
       "      <td>6</td>\n",
       "      <td>['gluten free', 'lacto ovo vegetarian', 'primal']</td>\n",
       "    </tr>\n",
       "    <tr>\n",
       "      <th>1</th>\n",
       "      <td>Turkey Goulash By Mommie Cooks</td>\n",
       "      <td>Turkey Goulash By Mommie Cooks might be just t...</td>\n",
       "      <td>&lt;ol&gt;&lt;li&gt;If you're using ground turkey, start o...</td>\n",
       "      <td>bell pepper; canned diced tomatoes; cooked egg...</td>\n",
       "      <td>False</td>\n",
       "      <td>False</td>\n",
       "      <td>False</td>\n",
       "      <td>False</td>\n",
       "      <td>False</td>\n",
       "      <td>False</td>\n",
       "      <td>False</td>\n",
       "      <td>False</td>\n",
       "      <td>13.0</td>\n",
       "      <td>204.73</td>\n",
       "      <td>45</td>\n",
       "      <td>6</td>\n",
       "      <td>NaN</td>\n",
       "    </tr>\n",
       "    <tr>\n",
       "      <th>2</th>\n",
       "      <td>What to make for dinner tonight?? Bruschetta S...</td>\n",
       "      <td>You can never have too many main course recipe...</td>\n",
       "      <td>wash and rinse pork chops and place into the s...</td>\n",
       "      <td>bow tie pasta; parmigiano reggiano; pasta; por...</td>\n",
       "      <td>False</td>\n",
       "      <td>False</td>\n",
       "      <td>False</td>\n",
       "      <td>False</td>\n",
       "      <td>False</td>\n",
       "      <td>False</td>\n",
       "      <td>False</td>\n",
       "      <td>False</td>\n",
       "      <td>20.0</td>\n",
       "      <td>145.24</td>\n",
       "      <td>35</td>\n",
       "      <td>5</td>\n",
       "      <td>NaN</td>\n",
       "    </tr>\n",
       "    <tr>\n",
       "      <th>3</th>\n",
       "      <td>Not Your Normal Seven Layer Dip</td>\n",
       "      <td>Not Your Normal Seven Layer Dip might be just ...</td>\n",
       "      <td>Layer your bowl with refried beans.Add a layer...</td>\n",
       "      <td>avocado; canned tomatoes; cilantro; green chil...</td>\n",
       "      <td>True</td>\n",
       "      <td>False</td>\n",
       "      <td>True</td>\n",
       "      <td>False</td>\n",
       "      <td>False</td>\n",
       "      <td>False</td>\n",
       "      <td>False</td>\n",
       "      <td>False</td>\n",
       "      <td>22.0</td>\n",
       "      <td>106.64</td>\n",
       "      <td>15</td>\n",
       "      <td>12</td>\n",
       "      <td>['gluten free', 'lacto ovo vegetarian']</td>\n",
       "    </tr>\n",
       "    <tr>\n",
       "      <th>4</th>\n",
       "      <td>Pan-seared salmon with brown butter lime sauce...</td>\n",
       "      <td>Pan-seared salmon with brown butter lime sauce...</td>\n",
       "      <td>&lt;ol&gt;&lt;li&gt;In a frying pan, melt the butter over ...</td>\n",
       "      <td>asparagus spears; butter; butter; garlic; lime...</td>\n",
       "      <td>False</td>\n",
       "      <td>False</td>\n",
       "      <td>True</td>\n",
       "      <td>False</td>\n",
       "      <td>False</td>\n",
       "      <td>False</td>\n",
       "      <td>False</td>\n",
       "      <td>False</td>\n",
       "      <td>35.0</td>\n",
       "      <td>554.27</td>\n",
       "      <td>45</td>\n",
       "      <td>4</td>\n",
       "      <td>['gluten free', 'primal', 'pescatarian']</td>\n",
       "    </tr>\n",
       "  </tbody>\n",
       "</table>\n",
       "</div>"
      ],
      "text/plain": [
       "                                               title  \\\n",
       "0                    Roasted Butternut Squash Bisque   \n",
       "1                     Turkey Goulash By Mommie Cooks   \n",
       "2  What to make for dinner tonight?? Bruschetta S...   \n",
       "3                    Not Your Normal Seven Layer Dip   \n",
       "4  Pan-seared salmon with brown butter lime sauce...   \n",
       "\n",
       "                                             summary  \\\n",
       "0  Roasted Butternut Squash Bisque could be just ...   \n",
       "1  Turkey Goulash By Mommie Cooks might be just t...   \n",
       "2  You can never have too many main course recipe...   \n",
       "3  Not Your Normal Seven Layer Dip might be just ...   \n",
       "4  Pan-seared salmon with brown butter lime sauce...   \n",
       "\n",
       "                                        instructions  \\\n",
       "0  For garlic broth:\\nAdd all ingredients to the ...   \n",
       "1  <ol><li>If you're using ground turkey, start o...   \n",
       "2  wash and rinse pork chops and place into the s...   \n",
       "3  Layer your bowl with refried beans.Add a layer...   \n",
       "4  <ol><li>In a frying pan, melt the butter over ...   \n",
       "\n",
       "                                         Ingredients  vegetarian  vegan  \\\n",
       "0  extra virgin olive oil; butter; sweet onions; ...        True  False   \n",
       "1  bell pepper; canned diced tomatoes; cooked egg...       False  False   \n",
       "2  bow tie pasta; parmigiano reggiano; pasta; por...       False  False   \n",
       "3  avocado; canned tomatoes; cilantro; green chil...        True  False   \n",
       "4  asparagus spears; butter; butter; garlic; lime...       False  False   \n",
       "\n",
       "   glutenFree  dairyFree  veryHealthy  cheap  veryPopular  sustainable  \\\n",
       "0        True      False        False  False        False        False   \n",
       "1       False      False        False  False        False        False   \n",
       "2       False      False        False  False        False        False   \n",
       "3        True      False        False  False        False        False   \n",
       "4        True      False        False  False        False        False   \n",
       "\n",
       "   healthScore  pricePerServing  readyInMinutes  servings  \\\n",
       "0         26.0           510.34              45         6   \n",
       "1         13.0           204.73              45         6   \n",
       "2         20.0           145.24              35         5   \n",
       "3         22.0           106.64              15        12   \n",
       "4         35.0           554.27              45         4   \n",
       "\n",
       "                                               diets  \n",
       "0  ['gluten free', 'lacto ovo vegetarian', 'primal']  \n",
       "1                                                NaN  \n",
       "2                                                NaN  \n",
       "3            ['gluten free', 'lacto ovo vegetarian']  \n",
       "4           ['gluten free', 'primal', 'pescatarian']  "
      ]
     },
     "execution_count": 7,
     "metadata": {},
     "output_type": "execute_result"
    }
   ],
   "source": [
    "df.head()"
   ]
  },
  {
   "cell_type": "code",
   "execution_count": null,
   "id": "5a471775-5b6b-4328-9526-7b99162e1eeb",
   "metadata": {},
   "outputs": [],
   "source": []
  },
  {
   "cell_type": "code",
   "execution_count": null,
   "id": "4195d510-a033-4fab-8ed1-fa67b51a6e00",
   "metadata": {},
   "outputs": [],
   "source": []
  },
  {
   "cell_type": "markdown",
   "id": "f0696828-ed45-457d-b920-1d45efcc3875",
   "metadata": {},
   "source": [
    "## Code"
   ]
  },
  {
   "cell_type": "markdown",
   "id": "96c2eac5-27e5-4332-adee-1d3186adb69a",
   "metadata": {},
   "source": [
    "#### 1. multi-class classification - produce a list of classes to which the recipes belong, such as “vegan” and “gluten-free”"
   ]
  },
  {
   "cell_type": "code",
   "execution_count": null,
   "id": "48c67516-449d-4a64-b6aa-615cd98e8934",
   "metadata": {},
   "outputs": [],
   "source": []
  },
  {
   "cell_type": "code",
   "execution_count": null,
   "id": "af4529c9-5438-4b8b-b679-6ece9f2e7ac8",
   "metadata": {},
   "outputs": [],
   "source": []
  },
  {
   "cell_type": "code",
   "execution_count": null,
   "id": "495204f7-644c-4c84-b43d-51f686bf80d8",
   "metadata": {},
   "outputs": [],
   "source": []
  },
  {
   "cell_type": "code",
   "execution_count": null,
   "id": "b0f8fca8-30c7-42f5-a63b-e24a68dbb33d",
   "metadata": {},
   "outputs": [],
   "source": []
  },
  {
   "cell_type": "markdown",
   "id": "3fc514e3-795e-411c-9016-a7be11f75e23",
   "metadata": {},
   "source": [
    "#### 2. regression - predict numeric characteristics of the recipes, such as health score and preparation time"
   ]
  },
  {
   "cell_type": "code",
   "execution_count": null,
   "id": "cc136647-faef-4540-8086-1bca57df7950",
   "metadata": {},
   "outputs": [],
   "source": []
  },
  {
   "cell_type": "code",
   "execution_count": null,
   "id": "3de736fa-c281-4db7-81c7-d1d945278fe2",
   "metadata": {},
   "outputs": [],
   "source": []
  },
  {
   "cell_type": "code",
   "execution_count": null,
   "id": "bce50230-d227-47dc-9aba-717475d50e20",
   "metadata": {},
   "outputs": [],
   "source": []
  },
  {
   "cell_type": "code",
   "execution_count": null,
   "id": "abf2025d-a663-4097-b0e3-2c98dfdc0547",
   "metadata": {},
   "outputs": [],
   "source": []
  },
  {
   "cell_type": "markdown",
   "id": "637af2bc-433e-4a90-bd82-1e59b74a2d97",
   "metadata": {},
   "source": [
    "#### 3. relation extraction for text substitution - produce a substitution for certain ingredients, e,g, “vegan” and “pesto chicken pasta” might give us “pesto tofu pasta”"
   ]
  },
  {
   "cell_type": "code",
   "execution_count": null,
   "id": "410a6108-3940-49fa-a129-628b289d6685",
   "metadata": {},
   "outputs": [],
   "source": []
  }
 ],
 "metadata": {
  "kernelspec": {
   "display_name": "Python 3 (ipykernel)",
   "language": "python",
   "name": "python3"
  },
  "language_info": {
   "codemirror_mode": {
    "name": "ipython",
    "version": 3
   },
   "file_extension": ".py",
   "mimetype": "text/x-python",
   "name": "python",
   "nbconvert_exporter": "python",
   "pygments_lexer": "ipython3",
   "version": "3.9.10"
  }
 },
 "nbformat": 4,
 "nbformat_minor": 5
}
