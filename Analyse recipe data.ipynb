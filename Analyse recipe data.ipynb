{
 "cells": [
  {
   "cell_type": "markdown",
   "id": "91748d70-fe9b-41d7-8def-febf5b284994",
   "metadata": {},
   "source": [
    "# SNLP project - recipe summarisation"
   ]
  },
  {
   "cell_type": "markdown",
   "id": "53aa1cab-f3e4-4361-8eba-fd10c277077f",
   "metadata": {},
   "source": [
    "## Abstract\n",
    "\n",
    "**Objective:**\n",
    "\n",
    "Train and compare models which summarises recipes given the ingredients, instructions, and other details. \n",
    "The data set is sourced from the Spoonacular API. \n",
    "\n",
    "**Candidate summarisation strategies**\n",
    "\n",
    "We will consider three summarisation strategies.\n",
    "1. summarisation by producing a text summary of the recipes\n",
    "2. summarisation by producing a list of classes to which the recipes belong (e.g. vegan, oven-free) \n",
    "3. summarisation by predicting numeric characteristic (e.g. preparation time)"
   ]
  },
  {
   "cell_type": "markdown",
   "id": "f0696828-ed45-457d-b920-1d45efcc3875",
   "metadata": {},
   "source": [
    "## Code"
   ]
  },
  {
   "cell_type": "markdown",
   "id": "96c2eac5-27e5-4332-adee-1d3186adb69a",
   "metadata": {},
   "source": [
    "#### 1. Summarisation by producing a text summary of the recipes"
   ]
  },
  {
   "cell_type": "code",
   "execution_count": null,
   "id": "48c67516-449d-4a64-b6aa-615cd98e8934",
   "metadata": {},
   "outputs": [],
   "source": []
  },
  {
   "cell_type": "code",
   "execution_count": null,
   "id": "af4529c9-5438-4b8b-b679-6ece9f2e7ac8",
   "metadata": {},
   "outputs": [],
   "source": []
  },
  {
   "cell_type": "code",
   "execution_count": null,
   "id": "495204f7-644c-4c84-b43d-51f686bf80d8",
   "metadata": {},
   "outputs": [],
   "source": []
  },
  {
   "cell_type": "code",
   "execution_count": null,
   "id": "b0f8fca8-30c7-42f5-a63b-e24a68dbb33d",
   "metadata": {},
   "outputs": [],
   "source": []
  },
  {
   "cell_type": "markdown",
   "id": "3fc514e3-795e-411c-9016-a7be11f75e23",
   "metadata": {},
   "source": [
    "#### 2. Summarisation by producing a list of classes to which the recipes belong (e.g. vegan, oven-free)"
   ]
  },
  {
   "cell_type": "code",
   "execution_count": null,
   "id": "cc136647-faef-4540-8086-1bca57df7950",
   "metadata": {},
   "outputs": [],
   "source": []
  },
  {
   "cell_type": "code",
   "execution_count": null,
   "id": "3de736fa-c281-4db7-81c7-d1d945278fe2",
   "metadata": {},
   "outputs": [],
   "source": []
  },
  {
   "cell_type": "code",
   "execution_count": null,
   "id": "bce50230-d227-47dc-9aba-717475d50e20",
   "metadata": {},
   "outputs": [],
   "source": []
  },
  {
   "cell_type": "code",
   "execution_count": null,
   "id": "abf2025d-a663-4097-b0e3-2c98dfdc0547",
   "metadata": {},
   "outputs": [],
   "source": []
  },
  {
   "cell_type": "markdown",
   "id": "637af2bc-433e-4a90-bd82-1e59b74a2d97",
   "metadata": {},
   "source": [
    "#### 3. Summarisation by predicting numeric characteristic (e.g. preparation time)"
   ]
  },
  {
   "cell_type": "code",
   "execution_count": null,
   "id": "410a6108-3940-49fa-a129-628b289d6685",
   "metadata": {},
   "outputs": [],
   "source": []
  }
 ],
 "metadata": {
  "kernelspec": {
   "display_name": "Python 3 (ipykernel)",
   "language": "python",
   "name": "python3"
  },
  "language_info": {
   "codemirror_mode": {
    "name": "ipython",
    "version": 3
   },
   "file_extension": ".py",
   "mimetype": "text/x-python",
   "name": "python",
   "nbconvert_exporter": "python",
   "pygments_lexer": "ipython3",
   "version": "3.9.7"
  }
 },
 "nbformat": 4,
 "nbformat_minor": 5
}
