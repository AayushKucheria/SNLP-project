{
 "cells": [
  {
   "cell_type": "markdown",
   "id": "91748d70-fe9b-41d7-8def-febf5b284994",
   "metadata": {},
   "source": [
    "# SNLP project"
   ]
  },
  {
   "cell_type": "markdown",
   "id": "53aa1cab-f3e4-4361-8eba-fd10c277077f",
   "metadata": {},
   "source": [
    "## Ingredient substitution task \n",
    "\n",
    "**Objective:**\n",
    "\n",
    "produce a substitution for certain ingredients, e,g, “vegan” and “pesto chicken pasta” might give us “pesto tofu pasta”"
   ]
  },
  {
   "cell_type": "markdown",
   "id": "a8fa3dfb-6b04-4cde-8206-08df7f4e24e3",
   "metadata": {},
   "source": [
    "## 1. Text preprocessing"
   ]
  },
  {
   "cell_type": "code",
   "execution_count": 1,
   "id": "2b7bb3f5-c9e5-4952-9142-f378e41c9a44",
   "metadata": {},
   "outputs": [
    {
     "name": "stderr",
     "output_type": "stream",
     "text": [
      "/Users/sannalun/opt/anaconda3/envs/spoonacular/lib/python3.9/site-packages/tqdm/auto.py:22: TqdmWarning: IProgress not found. Please update jupyter and ipywidgets. See https://ipywidgets.readthedocs.io/en/stable/user_install.html\n",
      "  from .autonotebook import tqdm as notebook_tqdm\n"
     ]
    }
   ],
   "source": [
    "import pandas as pd\n",
    "import numpy as np\n",
    "from typing import List\n",
    "import gensim\n",
    "from gensim.models import Word2Vec\n",
    "import spacy\n",
    "import nltk\n",
    "from nltk.corpus import stopwords\n",
    "from nltk import download\n",
    "from nltk.stem import WordNetLemmatizer\n",
    "import time "
   ]
  },
  {
   "cell_type": "code",
   "execution_count": 96,
   "id": "d09a80a4-0058-430a-9a42-48d7a91a8ede",
   "metadata": {},
   "outputs": [
    {
     "name": "stderr",
     "output_type": "stream",
     "text": [
      "[nltk_data] Downloading package stopwords to\n",
      "[nltk_data]     /Users/sannalun/nltk_data...\n",
      "[nltk_data]   Package stopwords is already up-to-date!\n"
     ]
    }
   ],
   "source": [
    "download('stopwords')\n",
    "stop_words = stopwords.words('english')"
   ]
  },
  {
   "cell_type": "code",
   "execution_count": 97,
   "id": "e5fa1bce-a1c6-4bad-82fa-e89d424e3fec",
   "metadata": {},
   "outputs": [
    {
     "name": "stderr",
     "output_type": "stream",
     "text": [
      "[nltk_data] Downloading package averaged_perceptron_tagger to\n",
      "[nltk_data]     /Users/sannalun/nltk_data...\n",
      "[nltk_data]   Package averaged_perceptron_tagger is already up-to-\n",
      "[nltk_data]       date!\n"
     ]
    },
    {
     "data": {
      "text/plain": [
       "True"
      ]
     },
     "execution_count": 97,
     "metadata": {},
     "output_type": "execute_result"
    }
   ],
   "source": [
    "nltk.download('averaged_perceptron_tagger')"
   ]
  },
  {
   "cell_type": "code",
   "execution_count": 145,
   "id": "420bd8a7-42da-4bb1-929f-5f6ba08d1b6b",
   "metadata": {},
   "outputs": [
    {
     "name": "stderr",
     "output_type": "stream",
     "text": [
      "[nltk_data] Downloading package wordnet to\n",
      "[nltk_data]     /Users/sannalun/nltk_data...\n",
      "[nltk_data]   Package wordnet is already up-to-date!\n",
      "[nltk_data] Downloading package omw-1.4 to\n",
      "[nltk_data]     /Users/sannalun/nltk_data...\n",
      "[nltk_data]   Unzipping corpora/omw-1.4.zip.\n"
     ]
    },
    {
     "data": {
      "text/plain": [
       "True"
      ]
     },
     "execution_count": 145,
     "metadata": {},
     "output_type": "execute_result"
    }
   ],
   "source": [
    "nltk.download('wordnet')\n",
    "nltk.download('omw-1.4')"
   ]
  },
  {
   "cell_type": "code",
   "execution_count": 2,
   "id": "02451eb1-88c6-42fe-b254-803de5cecf67",
   "metadata": {},
   "outputs": [],
   "source": [
    "df = pd.read_csv(\"./data/cleaneddata.csv\", index_col=0)"
   ]
  },
  {
   "cell_type": "code",
   "execution_count": 3,
   "id": "cf468396-a8ba-4c45-899a-fd395178f5a6",
   "metadata": {},
   "outputs": [
    {
     "data": {
      "text/html": [
       "<div>\n",
       "<style scoped>\n",
       "    .dataframe tbody tr th:only-of-type {\n",
       "        vertical-align: middle;\n",
       "    }\n",
       "\n",
       "    .dataframe tbody tr th {\n",
       "        vertical-align: top;\n",
       "    }\n",
       "\n",
       "    .dataframe thead th {\n",
       "        text-align: right;\n",
       "    }\n",
       "</style>\n",
       "<table border=\"1\" class=\"dataframe\">\n",
       "  <thead>\n",
       "    <tr style=\"text-align: right;\">\n",
       "      <th></th>\n",
       "      <th>title</th>\n",
       "      <th>summary</th>\n",
       "      <th>instructions</th>\n",
       "      <th>ingredients</th>\n",
       "      <th>ingredient types</th>\n",
       "      <th>diets</th>\n",
       "      <th>vegetarian</th>\n",
       "      <th>vegan</th>\n",
       "      <th>glutenFree</th>\n",
       "      <th>dairyFree</th>\n",
       "      <th>veryHealthy</th>\n",
       "      <th>cheap</th>\n",
       "      <th>veryPopular</th>\n",
       "      <th>sustainable</th>\n",
       "      <th>healthScore</th>\n",
       "      <th>pricePerServing</th>\n",
       "      <th>readyInMinutes</th>\n",
       "      <th>servings</th>\n",
       "    </tr>\n",
       "  </thead>\n",
       "  <tbody>\n",
       "    <tr>\n",
       "      <th>0</th>\n",
       "      <td>orange fig teacake with caramel glaze</td>\n",
       "      <td>orange fig teacake with caramel glaze is a veg...</td>\n",
       "      <td>you will need a 9  springform pan  or a cake ...</td>\n",
       "      <td>ap flour; baking powder; cardamom; eggs; fresh...</td>\n",
       "      <td>Beverages Milk Eggs Other Dairy Spices and Sea...</td>\n",
       "      <td>lacto ovo vegetarian</td>\n",
       "      <td>True</td>\n",
       "      <td>False</td>\n",
       "      <td>False</td>\n",
       "      <td>False</td>\n",
       "      <td>False</td>\n",
       "      <td>False</td>\n",
       "      <td>False</td>\n",
       "      <td>False</td>\n",
       "      <td>3.0</td>\n",
       "      <td>75.55</td>\n",
       "      <td>45</td>\n",
       "      <td>10</td>\n",
       "    </tr>\n",
       "    <tr>\n",
       "      <th>1</th>\n",
       "      <td>poached eggs on a bed of fried mushrooms and c...</td>\n",
       "      <td>poached eggs on a bed of fried mushrooms and c...</td>\n",
       "      <td>in a frying pan heat up oil then add mushroom...</td>\n",
       "      <td>bread; butter; eggs; eggs; mushrooms; oil; sal...</td>\n",
       "      <td>Beverages Milk Eggs Other Dairy Spices and Sea...</td>\n",
       "      <td>lacto ovo vegetarian</td>\n",
       "      <td>True</td>\n",
       "      <td>False</td>\n",
       "      <td>False</td>\n",
       "      <td>False</td>\n",
       "      <td>False</td>\n",
       "      <td>False</td>\n",
       "      <td>False</td>\n",
       "      <td>False</td>\n",
       "      <td>15.0</td>\n",
       "      <td>147.70</td>\n",
       "      <td>45</td>\n",
       "      <td>2</td>\n",
       "    </tr>\n",
       "    <tr>\n",
       "      <th>2</th>\n",
       "      <td>pandan chiffon cake</td>\n",
       "      <td>for 26 cents per serving   this recipe covers ...</td>\n",
       "      <td>preheat the oven to 170c  blend the pandan le...</td>\n",
       "      <td>all purpose flour; bay leaves; coconut milk; c...</td>\n",
       "      <td>Ethnic Foods Produce Spices and Seasonings Bev...</td>\n",
       "      <td>dairy free; lacto ovo vegetarian</td>\n",
       "      <td>True</td>\n",
       "      <td>False</td>\n",
       "      <td>False</td>\n",
       "      <td>True</td>\n",
       "      <td>False</td>\n",
       "      <td>False</td>\n",
       "      <td>False</td>\n",
       "      <td>False</td>\n",
       "      <td>1.0</td>\n",
       "      <td>26.06</td>\n",
       "      <td>45</td>\n",
       "      <td>9</td>\n",
       "    </tr>\n",
       "    <tr>\n",
       "      <th>3</th>\n",
       "      <td>pork chop with honey  mustard and apples</td>\n",
       "      <td>pork chop with honey  mustard and apples might...</td>\n",
       "      <td>pre heat your oven to 200c   400f  line a roa...</td>\n",
       "      <td>apples; dijon mustard; garlic cloves; honey; j...</td>\n",
       "      <td>Meat Spices and Seasonings Condiments Oil Vine...</td>\n",
       "      <td>gluten free; dairy free; paleolithic; primal</td>\n",
       "      <td>False</td>\n",
       "      <td>False</td>\n",
       "      <td>True</td>\n",
       "      <td>True</td>\n",
       "      <td>False</td>\n",
       "      <td>False</td>\n",
       "      <td>False</td>\n",
       "      <td>False</td>\n",
       "      <td>17.0</td>\n",
       "      <td>242.23</td>\n",
       "      <td>45</td>\n",
       "      <td>4</td>\n",
       "    </tr>\n",
       "    <tr>\n",
       "      <th>4</th>\n",
       "      <td>beet gnocchi with steak and brown butter sauce</td>\n",
       "      <td>the recipe beet gnocchi with steak and brown b...</td>\n",
       "      <td>cooking beets heat oven to 400 degrees wash be...</td>\n",
       "      <td>gnocchi; beets; olive oil; s p; goat cheese; r...</td>\n",
       "      <td>Produce Spices and Seasonings Meat Spices and ...</td>\n",
       "      <td>NaN</td>\n",
       "      <td>False</td>\n",
       "      <td>False</td>\n",
       "      <td>False</td>\n",
       "      <td>False</td>\n",
       "      <td>False</td>\n",
       "      <td>False</td>\n",
       "      <td>False</td>\n",
       "      <td>False</td>\n",
       "      <td>12.0</td>\n",
       "      <td>417.69</td>\n",
       "      <td>45</td>\n",
       "      <td>4</td>\n",
       "    </tr>\n",
       "  </tbody>\n",
       "</table>\n",
       "</div>"
      ],
      "text/plain": [
       "                                               title  \\\n",
       "0              orange fig teacake with caramel glaze   \n",
       "1  poached eggs on a bed of fried mushrooms and c...   \n",
       "2                                pandan chiffon cake   \n",
       "3           pork chop with honey  mustard and apples   \n",
       "4     beet gnocchi with steak and brown butter sauce   \n",
       "\n",
       "                                             summary  \\\n",
       "0  orange fig teacake with caramel glaze is a veg...   \n",
       "1  poached eggs on a bed of fried mushrooms and c...   \n",
       "2  for 26 cents per serving   this recipe covers ...   \n",
       "3  pork chop with honey  mustard and apples might...   \n",
       "4  the recipe beet gnocchi with steak and brown b...   \n",
       "\n",
       "                                        instructions  \\\n",
       "0   you will need a 9  springform pan  or a cake ...   \n",
       "1   in a frying pan heat up oil then add mushroom...   \n",
       "2   preheat the oven to 170c  blend the pandan le...   \n",
       "3   pre heat your oven to 200c   400f  line a roa...   \n",
       "4  cooking beets heat oven to 400 degrees wash be...   \n",
       "\n",
       "                                         ingredients  \\\n",
       "0  ap flour; baking powder; cardamom; eggs; fresh...   \n",
       "1  bread; butter; eggs; eggs; mushrooms; oil; sal...   \n",
       "2  all purpose flour; bay leaves; coconut milk; c...   \n",
       "3  apples; dijon mustard; garlic cloves; honey; j...   \n",
       "4  gnocchi; beets; olive oil; s p; goat cheese; r...   \n",
       "\n",
       "                                    ingredient types  \\\n",
       "0  Beverages Milk Eggs Other Dairy Spices and Sea...   \n",
       "1  Beverages Milk Eggs Other Dairy Spices and Sea...   \n",
       "2  Ethnic Foods Produce Spices and Seasonings Bev...   \n",
       "3  Meat Spices and Seasonings Condiments Oil Vine...   \n",
       "4  Produce Spices and Seasonings Meat Spices and ...   \n",
       "\n",
       "                                          diets  vegetarian  vegan  \\\n",
       "0                          lacto ovo vegetarian        True  False   \n",
       "1                          lacto ovo vegetarian        True  False   \n",
       "2              dairy free; lacto ovo vegetarian        True  False   \n",
       "3  gluten free; dairy free; paleolithic; primal       False  False   \n",
       "4                                           NaN       False  False   \n",
       "\n",
       "   glutenFree  dairyFree  veryHealthy  cheap  veryPopular  sustainable  \\\n",
       "0       False      False        False  False        False        False   \n",
       "1       False      False        False  False        False        False   \n",
       "2       False       True        False  False        False        False   \n",
       "3        True       True        False  False        False        False   \n",
       "4       False      False        False  False        False        False   \n",
       "\n",
       "   healthScore  pricePerServing  readyInMinutes  servings  \n",
       "0          3.0            75.55              45        10  \n",
       "1         15.0           147.70              45         2  \n",
       "2          1.0            26.06              45         9  \n",
       "3         17.0           242.23              45         4  \n",
       "4         12.0           417.69              45         4  "
      ]
     },
     "execution_count": 3,
     "metadata": {},
     "output_type": "execute_result"
    }
   ],
   "source": [
    "df.head()"
   ]
  },
  {
   "cell_type": "markdown",
   "id": "1f993f00-d851-477c-b636-fbdda5c3b8b7",
   "metadata": {},
   "source": [
    "#### 1.1 Drop column we don't need and renaming columns"
   ]
  },
  {
   "cell_type": "code",
   "execution_count": 100,
   "id": "ecb3597d-e788-465f-b5d6-d4086c3ef605",
   "metadata": {},
   "outputs": [],
   "source": [
    "df = df.drop([\"healthScore\", \"pricePerServing\", \"readyInMinutes\", \"servings\"], axis=1)\n"
   ]
  },
  {
   "cell_type": "code",
   "execution_count": 101,
   "id": "16dc70f4-c3bd-4f4f-ad6f-100fa5ca7c25",
   "metadata": {},
   "outputs": [],
   "source": [
    "df = df.rename(columns={\n",
    "    \"glutenFree\": \"gluten-free\", \n",
    "    \"dairyFree\": \"dairy-free\", \n",
    "    \"veryHealthy\":\"very-healthy\", \n",
    "    \"veryPopular\": \"very-popular\", \n",
    "})"
   ]
  },
  {
   "cell_type": "markdown",
   "id": "0a2c557f-44fa-4909-b892-229e6284b699",
   "metadata": {},
   "source": [
    "#### 1.2 Transform the TRUE classification labels to class name"
   ]
  },
  {
   "cell_type": "code",
   "execution_count": 102,
   "id": "e91d9e6b-a984-4a64-87ad-fc9c3601a3c1",
   "metadata": {},
   "outputs": [],
   "source": [
    "classes = ['vegetarian', \n",
    "           'vegan', \n",
    "           'gluten-free', \n",
    "           'dairy-free', \n",
    "           'very-healthy', \n",
    "           'cheap', \n",
    "           'very-popular', \n",
    "           'sustainable']"
   ]
  },
  {
   "cell_type": "code",
   "execution_count": 103,
   "id": "1119c718-42af-40af-847a-0d92a9bf1d47",
   "metadata": {},
   "outputs": [],
   "source": [
    "for c in classes:\n",
    "    df[c] = df[c].replace(to_replace=[True, False], value=[c, np.nan])"
   ]
  },
  {
   "cell_type": "code",
   "execution_count": 104,
   "id": "921bd1ff-833f-43b1-94fd-c44ffca26993",
   "metadata": {},
   "outputs": [
    {
     "data": {
      "text/html": [
       "<div>\n",
       "<style scoped>\n",
       "    .dataframe tbody tr th:only-of-type {\n",
       "        vertical-align: middle;\n",
       "    }\n",
       "\n",
       "    .dataframe tbody tr th {\n",
       "        vertical-align: top;\n",
       "    }\n",
       "\n",
       "    .dataframe thead th {\n",
       "        text-align: right;\n",
       "    }\n",
       "</style>\n",
       "<table border=\"1\" class=\"dataframe\">\n",
       "  <thead>\n",
       "    <tr style=\"text-align: right;\">\n",
       "      <th></th>\n",
       "      <th>title</th>\n",
       "      <th>summary</th>\n",
       "      <th>instructions</th>\n",
       "      <th>ingredients</th>\n",
       "      <th>ingredient types</th>\n",
       "      <th>diets</th>\n",
       "      <th>vegetarian</th>\n",
       "      <th>vegan</th>\n",
       "      <th>gluten-free</th>\n",
       "      <th>dairy-free</th>\n",
       "      <th>very-healthy</th>\n",
       "      <th>cheap</th>\n",
       "      <th>very-popular</th>\n",
       "      <th>sustainable</th>\n",
       "    </tr>\n",
       "  </thead>\n",
       "  <tbody>\n",
       "    <tr>\n",
       "      <th>0</th>\n",
       "      <td>orange fig teacake with caramel glaze</td>\n",
       "      <td>orange fig teacake with caramel glaze is a veg...</td>\n",
       "      <td>you will need a 9  springform pan  or a cake ...</td>\n",
       "      <td>ap flour; baking powder; cardamom; eggs; fresh...</td>\n",
       "      <td>Beverages Milk Eggs Other Dairy Spices and Sea...</td>\n",
       "      <td>lacto ovo vegetarian</td>\n",
       "      <td>vegetarian</td>\n",
       "      <td>NaN</td>\n",
       "      <td>NaN</td>\n",
       "      <td>NaN</td>\n",
       "      <td>NaN</td>\n",
       "      <td>NaN</td>\n",
       "      <td>NaN</td>\n",
       "      <td>NaN</td>\n",
       "    </tr>\n",
       "    <tr>\n",
       "      <th>1</th>\n",
       "      <td>poached eggs on a bed of fried mushrooms and c...</td>\n",
       "      <td>poached eggs on a bed of fried mushrooms and c...</td>\n",
       "      <td>in a frying pan heat up oil then add mushroom...</td>\n",
       "      <td>bread; butter; eggs; eggs; mushrooms; oil; sal...</td>\n",
       "      <td>Beverages Milk Eggs Other Dairy Spices and Sea...</td>\n",
       "      <td>lacto ovo vegetarian</td>\n",
       "      <td>vegetarian</td>\n",
       "      <td>NaN</td>\n",
       "      <td>NaN</td>\n",
       "      <td>NaN</td>\n",
       "      <td>NaN</td>\n",
       "      <td>NaN</td>\n",
       "      <td>NaN</td>\n",
       "      <td>NaN</td>\n",
       "    </tr>\n",
       "    <tr>\n",
       "      <th>2</th>\n",
       "      <td>pandan chiffon cake</td>\n",
       "      <td>for 26 cents per serving   this recipe covers ...</td>\n",
       "      <td>preheat the oven to 170c  blend the pandan le...</td>\n",
       "      <td>all purpose flour; bay leaves; coconut milk; c...</td>\n",
       "      <td>Ethnic Foods Produce Spices and Seasonings Bev...</td>\n",
       "      <td>dairy free; lacto ovo vegetarian</td>\n",
       "      <td>vegetarian</td>\n",
       "      <td>NaN</td>\n",
       "      <td>NaN</td>\n",
       "      <td>dairy-free</td>\n",
       "      <td>NaN</td>\n",
       "      <td>NaN</td>\n",
       "      <td>NaN</td>\n",
       "      <td>NaN</td>\n",
       "    </tr>\n",
       "    <tr>\n",
       "      <th>3</th>\n",
       "      <td>pork chop with honey  mustard and apples</td>\n",
       "      <td>pork chop with honey  mustard and apples might...</td>\n",
       "      <td>pre heat your oven to 200c   400f  line a roa...</td>\n",
       "      <td>apples; dijon mustard; garlic cloves; honey; j...</td>\n",
       "      <td>Meat Spices and Seasonings Condiments Oil Vine...</td>\n",
       "      <td>gluten free; dairy free; paleolithic; primal</td>\n",
       "      <td>NaN</td>\n",
       "      <td>NaN</td>\n",
       "      <td>gluten-free</td>\n",
       "      <td>dairy-free</td>\n",
       "      <td>NaN</td>\n",
       "      <td>NaN</td>\n",
       "      <td>NaN</td>\n",
       "      <td>NaN</td>\n",
       "    </tr>\n",
       "    <tr>\n",
       "      <th>4</th>\n",
       "      <td>beet gnocchi with steak and brown butter sauce</td>\n",
       "      <td>the recipe beet gnocchi with steak and brown b...</td>\n",
       "      <td>cooking beets heat oven to 400 degrees wash be...</td>\n",
       "      <td>gnocchi; beets; olive oil; s p; goat cheese; r...</td>\n",
       "      <td>Produce Spices and Seasonings Meat Spices and ...</td>\n",
       "      <td>NaN</td>\n",
       "      <td>NaN</td>\n",
       "      <td>NaN</td>\n",
       "      <td>NaN</td>\n",
       "      <td>NaN</td>\n",
       "      <td>NaN</td>\n",
       "      <td>NaN</td>\n",
       "      <td>NaN</td>\n",
       "      <td>NaN</td>\n",
       "    </tr>\n",
       "  </tbody>\n",
       "</table>\n",
       "</div>"
      ],
      "text/plain": [
       "                                               title  \\\n",
       "0              orange fig teacake with caramel glaze   \n",
       "1  poached eggs on a bed of fried mushrooms and c...   \n",
       "2                                pandan chiffon cake   \n",
       "3           pork chop with honey  mustard and apples   \n",
       "4     beet gnocchi with steak and brown butter sauce   \n",
       "\n",
       "                                             summary  \\\n",
       "0  orange fig teacake with caramel glaze is a veg...   \n",
       "1  poached eggs on a bed of fried mushrooms and c...   \n",
       "2  for 26 cents per serving   this recipe covers ...   \n",
       "3  pork chop with honey  mustard and apples might...   \n",
       "4  the recipe beet gnocchi with steak and brown b...   \n",
       "\n",
       "                                        instructions  \\\n",
       "0   you will need a 9  springform pan  or a cake ...   \n",
       "1   in a frying pan heat up oil then add mushroom...   \n",
       "2   preheat the oven to 170c  blend the pandan le...   \n",
       "3   pre heat your oven to 200c   400f  line a roa...   \n",
       "4  cooking beets heat oven to 400 degrees wash be...   \n",
       "\n",
       "                                         ingredients  \\\n",
       "0  ap flour; baking powder; cardamom; eggs; fresh...   \n",
       "1  bread; butter; eggs; eggs; mushrooms; oil; sal...   \n",
       "2  all purpose flour; bay leaves; coconut milk; c...   \n",
       "3  apples; dijon mustard; garlic cloves; honey; j...   \n",
       "4  gnocchi; beets; olive oil; s p; goat cheese; r...   \n",
       "\n",
       "                                    ingredient types  \\\n",
       "0  Beverages Milk Eggs Other Dairy Spices and Sea...   \n",
       "1  Beverages Milk Eggs Other Dairy Spices and Sea...   \n",
       "2  Ethnic Foods Produce Spices and Seasonings Bev...   \n",
       "3  Meat Spices and Seasonings Condiments Oil Vine...   \n",
       "4  Produce Spices and Seasonings Meat Spices and ...   \n",
       "\n",
       "                                          diets  vegetarian vegan  \\\n",
       "0                          lacto ovo vegetarian  vegetarian   NaN   \n",
       "1                          lacto ovo vegetarian  vegetarian   NaN   \n",
       "2              dairy free; lacto ovo vegetarian  vegetarian   NaN   \n",
       "3  gluten free; dairy free; paleolithic; primal         NaN   NaN   \n",
       "4                                           NaN         NaN   NaN   \n",
       "\n",
       "   gluten-free  dairy-free very-healthy cheap very-popular  sustainable  \n",
       "0          NaN         NaN          NaN   NaN          NaN          NaN  \n",
       "1          NaN         NaN          NaN   NaN          NaN          NaN  \n",
       "2          NaN  dairy-free          NaN   NaN          NaN          NaN  \n",
       "3  gluten-free  dairy-free          NaN   NaN          NaN          NaN  \n",
       "4          NaN         NaN          NaN   NaN          NaN          NaN  "
      ]
     },
     "execution_count": 104,
     "metadata": {},
     "output_type": "execute_result"
    }
   ],
   "source": [
    "df.head()"
   ]
  },
  {
   "cell_type": "markdown",
   "id": "fd104963-10c1-4695-9e89-2f035b909ed6",
   "metadata": {},
   "source": [
    "#### 1.3 Creating two copies of the diets and ingredients columns"
   ]
  },
  {
   "cell_type": "markdown",
   "id": "70bfd3d4-3275-461f-88bc-633afc447625",
   "metadata": {},
   "source": [
    "The ingredients and diets are going to be important for this tasks. To make our model more flexible, we will expand the vocabularies in these categories. \n",
    "\n",
    "For diets, we want to include both `\"gluten free\"` and `\"gluten-free\"` in the corpus. For ingredients, we want to include both `\"extra virgin olive oil\"` and `\"extra\", \"virgin\", \"olive\", \"oil\"`. "
   ]
  },
  {
   "cell_type": "code",
   "execution_count": 105,
   "id": "3080ccc9-b8df-463b-a8a2-089a6dcc6d72",
   "metadata": {},
   "outputs": [],
   "source": [
    "# df[\"ingredient split\"] = df[\"ingredients\"].str.replace(\"; \", \" \")\n",
    "df[\"diet split\"] = df[\"diets\"].str.replace(\" \", \"-\").str.replace(\";-\", \"; \")"
   ]
  },
  {
   "cell_type": "code",
   "execution_count": 106,
   "id": "26baea6d-1647-435b-876b-940dae2a4b15",
   "metadata": {},
   "outputs": [
    {
     "data": {
      "text/html": [
       "<div>\n",
       "<style scoped>\n",
       "    .dataframe tbody tr th:only-of-type {\n",
       "        vertical-align: middle;\n",
       "    }\n",
       "\n",
       "    .dataframe tbody tr th {\n",
       "        vertical-align: top;\n",
       "    }\n",
       "\n",
       "    .dataframe thead th {\n",
       "        text-align: right;\n",
       "    }\n",
       "</style>\n",
       "<table border=\"1\" class=\"dataframe\">\n",
       "  <thead>\n",
       "    <tr style=\"text-align: right;\">\n",
       "      <th></th>\n",
       "      <th>title</th>\n",
       "      <th>summary</th>\n",
       "      <th>instructions</th>\n",
       "      <th>ingredients</th>\n",
       "      <th>ingredient types</th>\n",
       "      <th>diets</th>\n",
       "      <th>vegetarian</th>\n",
       "      <th>vegan</th>\n",
       "      <th>gluten-free</th>\n",
       "      <th>dairy-free</th>\n",
       "      <th>very-healthy</th>\n",
       "      <th>cheap</th>\n",
       "      <th>very-popular</th>\n",
       "      <th>sustainable</th>\n",
       "      <th>diet split</th>\n",
       "    </tr>\n",
       "  </thead>\n",
       "  <tbody>\n",
       "    <tr>\n",
       "      <th>0</th>\n",
       "      <td>orange fig teacake with caramel glaze</td>\n",
       "      <td>orange fig teacake with caramel glaze is a veg...</td>\n",
       "      <td>you will need a 9  springform pan  or a cake ...</td>\n",
       "      <td>ap flour; baking powder; cardamom; eggs; fresh...</td>\n",
       "      <td>Beverages Milk Eggs Other Dairy Spices and Sea...</td>\n",
       "      <td>lacto ovo vegetarian</td>\n",
       "      <td>vegetarian</td>\n",
       "      <td>NaN</td>\n",
       "      <td>NaN</td>\n",
       "      <td>NaN</td>\n",
       "      <td>NaN</td>\n",
       "      <td>NaN</td>\n",
       "      <td>NaN</td>\n",
       "      <td>NaN</td>\n",
       "      <td>lacto-ovo-vegetarian</td>\n",
       "    </tr>\n",
       "    <tr>\n",
       "      <th>1</th>\n",
       "      <td>poached eggs on a bed of fried mushrooms and c...</td>\n",
       "      <td>poached eggs on a bed of fried mushrooms and c...</td>\n",
       "      <td>in a frying pan heat up oil then add mushroom...</td>\n",
       "      <td>bread; butter; eggs; eggs; mushrooms; oil; sal...</td>\n",
       "      <td>Beverages Milk Eggs Other Dairy Spices and Sea...</td>\n",
       "      <td>lacto ovo vegetarian</td>\n",
       "      <td>vegetarian</td>\n",
       "      <td>NaN</td>\n",
       "      <td>NaN</td>\n",
       "      <td>NaN</td>\n",
       "      <td>NaN</td>\n",
       "      <td>NaN</td>\n",
       "      <td>NaN</td>\n",
       "      <td>NaN</td>\n",
       "      <td>lacto-ovo-vegetarian</td>\n",
       "    </tr>\n",
       "    <tr>\n",
       "      <th>2</th>\n",
       "      <td>pandan chiffon cake</td>\n",
       "      <td>for 26 cents per serving   this recipe covers ...</td>\n",
       "      <td>preheat the oven to 170c  blend the pandan le...</td>\n",
       "      <td>all purpose flour; bay leaves; coconut milk; c...</td>\n",
       "      <td>Ethnic Foods Produce Spices and Seasonings Bev...</td>\n",
       "      <td>dairy free; lacto ovo vegetarian</td>\n",
       "      <td>vegetarian</td>\n",
       "      <td>NaN</td>\n",
       "      <td>NaN</td>\n",
       "      <td>dairy-free</td>\n",
       "      <td>NaN</td>\n",
       "      <td>NaN</td>\n",
       "      <td>NaN</td>\n",
       "      <td>NaN</td>\n",
       "      <td>dairy-free; lacto-ovo-vegetarian</td>\n",
       "    </tr>\n",
       "    <tr>\n",
       "      <th>3</th>\n",
       "      <td>pork chop with honey  mustard and apples</td>\n",
       "      <td>pork chop with honey  mustard and apples might...</td>\n",
       "      <td>pre heat your oven to 200c   400f  line a roa...</td>\n",
       "      <td>apples; dijon mustard; garlic cloves; honey; j...</td>\n",
       "      <td>Meat Spices and Seasonings Condiments Oil Vine...</td>\n",
       "      <td>gluten free; dairy free; paleolithic; primal</td>\n",
       "      <td>NaN</td>\n",
       "      <td>NaN</td>\n",
       "      <td>gluten-free</td>\n",
       "      <td>dairy-free</td>\n",
       "      <td>NaN</td>\n",
       "      <td>NaN</td>\n",
       "      <td>NaN</td>\n",
       "      <td>NaN</td>\n",
       "      <td>gluten-free; dairy-free; paleolithic; primal</td>\n",
       "    </tr>\n",
       "    <tr>\n",
       "      <th>4</th>\n",
       "      <td>beet gnocchi with steak and brown butter sauce</td>\n",
       "      <td>the recipe beet gnocchi with steak and brown b...</td>\n",
       "      <td>cooking beets heat oven to 400 degrees wash be...</td>\n",
       "      <td>gnocchi; beets; olive oil; s p; goat cheese; r...</td>\n",
       "      <td>Produce Spices and Seasonings Meat Spices and ...</td>\n",
       "      <td>NaN</td>\n",
       "      <td>NaN</td>\n",
       "      <td>NaN</td>\n",
       "      <td>NaN</td>\n",
       "      <td>NaN</td>\n",
       "      <td>NaN</td>\n",
       "      <td>NaN</td>\n",
       "      <td>NaN</td>\n",
       "      <td>NaN</td>\n",
       "      <td>NaN</td>\n",
       "    </tr>\n",
       "  </tbody>\n",
       "</table>\n",
       "</div>"
      ],
      "text/plain": [
       "                                               title  \\\n",
       "0              orange fig teacake with caramel glaze   \n",
       "1  poached eggs on a bed of fried mushrooms and c...   \n",
       "2                                pandan chiffon cake   \n",
       "3           pork chop with honey  mustard and apples   \n",
       "4     beet gnocchi with steak and brown butter sauce   \n",
       "\n",
       "                                             summary  \\\n",
       "0  orange fig teacake with caramel glaze is a veg...   \n",
       "1  poached eggs on a bed of fried mushrooms and c...   \n",
       "2  for 26 cents per serving   this recipe covers ...   \n",
       "3  pork chop with honey  mustard and apples might...   \n",
       "4  the recipe beet gnocchi with steak and brown b...   \n",
       "\n",
       "                                        instructions  \\\n",
       "0   you will need a 9  springform pan  or a cake ...   \n",
       "1   in a frying pan heat up oil then add mushroom...   \n",
       "2   preheat the oven to 170c  blend the pandan le...   \n",
       "3   pre heat your oven to 200c   400f  line a roa...   \n",
       "4  cooking beets heat oven to 400 degrees wash be...   \n",
       "\n",
       "                                         ingredients  \\\n",
       "0  ap flour; baking powder; cardamom; eggs; fresh...   \n",
       "1  bread; butter; eggs; eggs; mushrooms; oil; sal...   \n",
       "2  all purpose flour; bay leaves; coconut milk; c...   \n",
       "3  apples; dijon mustard; garlic cloves; honey; j...   \n",
       "4  gnocchi; beets; olive oil; s p; goat cheese; r...   \n",
       "\n",
       "                                    ingredient types  \\\n",
       "0  Beverages Milk Eggs Other Dairy Spices and Sea...   \n",
       "1  Beverages Milk Eggs Other Dairy Spices and Sea...   \n",
       "2  Ethnic Foods Produce Spices and Seasonings Bev...   \n",
       "3  Meat Spices and Seasonings Condiments Oil Vine...   \n",
       "4  Produce Spices and Seasonings Meat Spices and ...   \n",
       "\n",
       "                                          diets  vegetarian vegan  \\\n",
       "0                          lacto ovo vegetarian  vegetarian   NaN   \n",
       "1                          lacto ovo vegetarian  vegetarian   NaN   \n",
       "2              dairy free; lacto ovo vegetarian  vegetarian   NaN   \n",
       "3  gluten free; dairy free; paleolithic; primal         NaN   NaN   \n",
       "4                                           NaN         NaN   NaN   \n",
       "\n",
       "   gluten-free  dairy-free very-healthy cheap very-popular  sustainable  \\\n",
       "0          NaN         NaN          NaN   NaN          NaN          NaN   \n",
       "1          NaN         NaN          NaN   NaN          NaN          NaN   \n",
       "2          NaN  dairy-free          NaN   NaN          NaN          NaN   \n",
       "3  gluten-free  dairy-free          NaN   NaN          NaN          NaN   \n",
       "4          NaN         NaN          NaN   NaN          NaN          NaN   \n",
       "\n",
       "                                     diet split  \n",
       "0                          lacto-ovo-vegetarian  \n",
       "1                          lacto-ovo-vegetarian  \n",
       "2              dairy-free; lacto-ovo-vegetarian  \n",
       "3  gluten-free; dairy-free; paleolithic; primal  \n",
       "4                                           NaN  "
      ]
     },
     "execution_count": 106,
     "metadata": {},
     "output_type": "execute_result"
    }
   ],
   "source": [
    "df.head()"
   ]
  },
  {
   "cell_type": "code",
   "execution_count": 107,
   "id": "216b86c5-c08e-4620-b49a-e64bbb3110de",
   "metadata": {},
   "outputs": [],
   "source": [
    "ingredients = df[\"ingredients\"].to_list()\n",
    "# ingredients_split = df[\"ingredient split\"].to_list()\n",
    "\n",
    "all_ingredients = []\n",
    "for i in ingredients: \n",
    "    items = i.split(\"; \")\n",
    "    all_ingredients += items\n",
    "\n",
    "# for i in ingredients_split: \n",
    "#     items = i.split()\n",
    "#     all_ingredients += items\n",
    "\n",
    "all_ingredients = list(set(all_ingredients))"
   ]
  },
  {
   "cell_type": "code",
   "execution_count": 108,
   "id": "29a9b22a-c8f7-4160-bda7-ffaee72fcaa7",
   "metadata": {},
   "outputs": [
    {
     "data": {
      "text/plain": [
       "1635"
      ]
     },
     "execution_count": 108,
     "metadata": {},
     "output_type": "execute_result"
    }
   ],
   "source": [
    "len(all_ingredients)"
   ]
  },
  {
   "cell_type": "markdown",
   "id": "665952df-55f5-4bb3-b143-73eda5c981de",
   "metadata": {},
   "source": [
    "#### 1.4 Create sentences from recipes"
   ]
  },
  {
   "cell_type": "code",
   "execution_count": 154,
   "id": "d2844f0e-98bc-4be5-8b1f-cd3fd076da32",
   "metadata": {},
   "outputs": [],
   "source": [
    "class Sentence(object):\n",
    "    def __init__(self, df: pd.DataFrame):\n",
    "        self.df = df\n",
    "        self.n_rows = df.shape[0]\n",
    "        self.lemmatizer = WordNetLemmatizer()\n",
    "        \n",
    "    def __iter__(self):\n",
    "        for n in range(self.n_rows):\n",
    "            row = self.df.iloc[n]\n",
    "            sentence : List[str] = []\n",
    "            for i, cell in enumerate(row):\n",
    "                if type(cell) == str:\n",
    "                    sent = cell.split(\"; \") if df.columns[i] in [\"ingredients\", \"diets\"] else cell.split()\n",
    "                    sent = [w.lower() for w in sent if w not in stop_words]\n",
    "                    if len(sent) > 0: sent[-1] = self.lemmatizer.lemmatize(sent[-1])\n",
    "                    sentence += sent\n",
    "            yield sentence"
   ]
  },
  {
   "cell_type": "code",
   "execution_count": 155,
   "id": "fe1c9e88-af48-47fa-a155-ae1806673432",
   "metadata": {},
   "outputs": [],
   "source": [
    "sentences = Sentence(df)"
   ]
  },
  {
   "cell_type": "code",
   "execution_count": 156,
   "id": "ad47dae4-43ff-4eaa-8d7f-191314cbbd36",
   "metadata": {},
   "outputs": [
    {
     "name": "stdout",
     "output_type": "stream",
     "text": [
      "Training comleted in 83.4347779750824s.\n"
     ]
    }
   ],
   "source": [
    "start = time.time()\n",
    "model = Word2Vec(\n",
    "    sentences, \n",
    "    min_count=1,\n",
    "    vector_size=300, \n",
    "    workers=2,\n",
    "    window=2,\n",
    "    epochs=30, \n",
    "    sg=0\n",
    ")\n",
    "end = time.time()\n",
    "model.save(\"word2vec.model\")\n",
    "print(f\"Training comleted in {end-start}s.\")"
   ]
  },
  {
   "cell_type": "code",
   "execution_count": 163,
   "id": "6a56a512-16ad-454e-a5b5-32ae8c89eb2b",
   "metadata": {},
   "outputs": [],
   "source": [
    "def get_ingredients(ingredients: List[str], \n",
    "                    original_recipe: List[str], \n",
    "                    positive: List[str], \n",
    "                    negative: List[str] = [], \n",
    "                    topn=20):\n",
    "    \n",
    "    pos = original_recipe.split() + positive*3\n",
    "    candidates = model.wv.most_similar(positive=pos, negative=negative*2, topn=200)\n",
    "    \n",
    "    # for c in candidates:\n",
    "    #     print(c)\n",
    "    \n",
    "    substitutions = []\n",
    "    for ingredient_name, _ in candidates:\n",
    "        if len(substitutions) >= topn:\n",
    "            break\n",
    "        if ingredient_name in ingredients:\n",
    "            substitutions.append(ingredient_name)\n",
    "    return substitutions"
   ]
  },
  {
   "cell_type": "code",
   "execution_count": 164,
   "id": "1a32d9fa-294c-4add-b20a-8dbe1c3e9353",
   "metadata": {},
   "outputs": [
    {
     "data": {
      "text/plain": [
       "['feta',\n",
       " 'mushroom',\n",
       " 'bulgur',\n",
       " 'gorgonzola',\n",
       " 'arugula',\n",
       " 'mayo',\n",
       " 'orzo',\n",
       " 'fresh mozzarella cheese',\n",
       " 'chickpeas',\n",
       " 'cornbread',\n",
       " 'crepes',\n",
       " 'honey',\n",
       " 'turkey',\n",
       " 'bread',\n",
       " 'broccoli',\n",
       " 'chipotle',\n",
       " 'buckwheat',\n",
       " 'cauliflower',\n",
       " 'baguettes']"
      ]
     },
     "execution_count": 164,
     "metadata": {},
     "output_type": "execute_result"
    }
   ],
   "source": [
    "get_ingredients(all_ingredients, \n",
    "                original_recipe=\"pesto chicken pasta\", \n",
    "                positive=[\"vegan\"], \n",
    "                negative=[], topn=20)"
   ]
  },
  {
   "cell_type": "markdown",
   "id": "eaa56ba4-23db-4087-9632-27a65b1d368f",
   "metadata": {},
   "source": [
    "## BERT"
   ]
  },
  {
   "cell_type": "code",
   "execution_count": 2,
   "id": "bcb3bb07-0df6-4b71-a465-fbf8685b902e",
   "metadata": {},
   "outputs": [],
   "source": [
    "from tokenizers import ByteLevelBPETokenizer\n",
    "from transformers import RobertaTokenizerFast, RobertaConfig, RobertaForMaskedLM, AdamW, pipeline, FillMaskPipeline\n",
    "import os \n",
    "import torch\n",
    "from tqdm.auto import tqdm\n",
    "import glob"
   ]
  },
  {
   "cell_type": "markdown",
   "id": "194e53d3-5aaa-49bf-a977-f0831fe4a169",
   "metadata": {},
   "source": [
    "#### Create the text file for training"
   ]
  },
  {
   "cell_type": "code",
   "execution_count": 3,
   "id": "75ddeafe-7c1d-437a-90a4-622cc78ed6c7",
   "metadata": {},
   "outputs": [
    {
     "ename": "NameError",
     "evalue": "name 'df' is not defined",
     "output_type": "error",
     "traceback": [
      "\u001b[0;31m---------------------------------------------------------------------------\u001b[0m",
      "\u001b[0;31mNameError\u001b[0m                                 Traceback (most recent call last)",
      "Input \u001b[0;32mIn [3]\u001b[0m, in \u001b[0;36m<cell line: 1>\u001b[0;34m()\u001b[0m\n\u001b[0;32m----> 1\u001b[0m df1 \u001b[38;5;241m=\u001b[39m df\u001b[38;5;241m.\u001b[39mapply(\u001b[38;5;28;01mlambda\u001b[39;00m x: \u001b[38;5;124m\"\u001b[39m\u001b[38;5;124m \u001b[39m\u001b[38;5;124m\"\u001b[39m\u001b[38;5;241m.\u001b[39mjoin([cell \u001b[38;5;28;01mfor\u001b[39;00m cell \u001b[38;5;129;01min\u001b[39;00m x \u001b[38;5;28;01mif\u001b[39;00m \u001b[38;5;28mtype\u001b[39m(cell)\u001b[38;5;241m==\u001b[39m\u001b[38;5;28mstr\u001b[39m]), axis\u001b[38;5;241m=\u001b[39m\u001b[38;5;241m1\u001b[39m)\n\u001b[1;32m      3\u001b[0m recipes \u001b[38;5;241m=\u001b[39m \u001b[38;5;124m\"\u001b[39m\u001b[38;5;130;01m\\n\u001b[39;00m\u001b[38;5;124m\"\u001b[39m\u001b[38;5;241m.\u001b[39mjoin(df1\u001b[38;5;241m.\u001b[39mto_list())\n\u001b[1;32m      4\u001b[0m \u001b[38;5;28;01mwith\u001b[39;00m \u001b[38;5;28mopen\u001b[39m(\u001b[38;5;124m\"\u001b[39m\u001b[38;5;124mrecipes.txt\u001b[39m\u001b[38;5;124m\"\u001b[39m, \u001b[38;5;124m'\u001b[39m\u001b[38;5;124mw\u001b[39m\u001b[38;5;124m'\u001b[39m, encoding\u001b[38;5;241m=\u001b[39m\u001b[38;5;124m\"\u001b[39m\u001b[38;5;124mutf-8\u001b[39m\u001b[38;5;124m\"\u001b[39m) \u001b[38;5;28;01mas\u001b[39;00m f:\n",
      "\u001b[0;31mNameError\u001b[0m: name 'df' is not defined"
     ]
    }
   ],
   "source": [
    "df1 = df.apply(lambda x: \" \".join([cell for cell in x if type(cell)==str]), axis=1)\n",
    "\n",
    "recipes = \"\\n\".join(df1.to_list())\n",
    "with open(\"recipes.txt\", 'w', encoding=\"utf-8\") as f:\n",
    "    f.write(recipes)"
   ]
  },
  {
   "cell_type": "markdown",
   "id": "6c8caf09-0fd1-467f-90fd-15b5fbd60070",
   "metadata": {},
   "source": [
    "#### Train tokenizer"
   ]
  },
  {
   "cell_type": "code",
   "execution_count": 6,
   "id": "52b98534-5313-42e0-9c51-a2724c114586",
   "metadata": {},
   "outputs": [],
   "source": [
    "tokenizer = ByteLevelBPETokenizer()"
   ]
  },
  {
   "cell_type": "code",
   "execution_count": 7,
   "id": "b4ea6a94-f947-492f-b17e-2206e0cde33d",
   "metadata": {},
   "outputs": [
    {
     "name": "stdout",
     "output_type": "stream",
     "text": [
      "\n",
      "\n",
      "\n"
     ]
    }
   ],
   "source": [
    "tokenizer.train(files=[\"recipes.txt\"], \n",
    "                vocab_size=30_522, \n",
    "                min_frequency=1, \n",
    "                special_tokens=['<s>', '<pad>', '</s>', '<unk>', '<mask>'])"
   ]
  },
  {
   "cell_type": "code",
   "execution_count": 8,
   "id": "def9e44f-0783-4991-b711-cca2ca448073",
   "metadata": {},
   "outputs": [
    {
     "data": {
      "text/plain": [
       "['recipe_tokenizer/vocab.json', 'recipe_tokenizer/merges.txt']"
      ]
     },
     "execution_count": 8,
     "metadata": {},
     "output_type": "execute_result"
    }
   ],
   "source": [
    "tokenizer_path = \"recipe_tokenizer\"\n",
    "# os.mkdir(\"recipe_tokenizer\")\n",
    "tokenizer.save_model(tokenizer_path)"
   ]
  },
  {
   "cell_type": "code",
   "execution_count": 10,
   "id": "4ae3ccde-d9fe-424e-9239-83b15a8517ef",
   "metadata": {},
   "outputs": [],
   "source": [
    "tokenizer = RobertaTokenizerFast.from_pretrained(tokenizer_path)"
   ]
  },
  {
   "cell_type": "code",
   "execution_count": 11,
   "id": "c4c5ef71-a6c3-4318-9fe0-72a9bce096b9",
   "metadata": {},
   "outputs": [
    {
     "data": {
      "text/plain": [
       "('recipe_tokenizer/tokenizer_config.json',\n",
       " 'recipe_tokenizer/special_tokens_map.json',\n",
       " 'recipe_tokenizer/vocab.json',\n",
       " 'recipe_tokenizer/merges.txt',\n",
       " 'recipe_tokenizer/added_tokens.json',\n",
       " 'recipe_tokenizer/tokenizer.json')"
      ]
     },
     "execution_count": 11,
     "metadata": {},
     "output_type": "execute_result"
    }
   ],
   "source": [
    "tokenizer.save_pretrained(tokenizer_path)"
   ]
  },
  {
   "cell_type": "code",
   "execution_count": 12,
   "id": "8af892ef-4914-4318-9c60-f41b7dbedebe",
   "metadata": {},
   "outputs": [
    {
     "data": {
      "text/plain": [
       "{'input_ids': [0, 8327, 14297, 974, 2], 'attention_mask': [1, 1, 1, 1, 1]}"
      ]
     },
     "execution_count": 12,
     "metadata": {},
     "output_type": "execute_result"
    }
   ],
   "source": [
    "tokenizer(\"pesto chich pasta\")"
   ]
  },
  {
   "cell_type": "markdown",
   "id": "92a3a36b-349f-432b-b57c-18ed517244c0",
   "metadata": {},
   "source": [
    "#### Input pipeline"
   ]
  },
  {
   "cell_type": "code",
   "execution_count": 13,
   "id": "911c9b60-d15c-4e24-a443-51d34c6f3943",
   "metadata": {},
   "outputs": [],
   "source": [
    "def mlm(tensor):\n",
    "    rand = torch.rand(tensor.shape)\n",
    "    mask_arr = (rand < 0.15) * (tensor > 2)\n",
    "    for i in range(tensor.shape[0]):\n",
    "        selection = torch.flatten(mask_arr[i].nonzero()).tolist()\n",
    "        tensor[i, selection] = 4 # mask token\n",
    "    return tensor"
   ]
  },
  {
   "cell_type": "code",
   "execution_count": 14,
   "id": "a34bfb4d-adb3-48f2-a46c-eaa86ea99908",
   "metadata": {},
   "outputs": [],
   "source": [
    "input_ids = []\n",
    "attn_mask = [] \n",
    "labels = []\n",
    "\n",
    "with open(\"recipes.txt\", 'r', encoding='utf-8') as f:\n",
    "    lines = f.read().split('\\n')\n",
    "    \n",
    "sample = tokenizer(lines, \n",
    "                   max_length=512, \n",
    "                   padding=\"max_length\", \n",
    "                   truncation=True, \n",
    "                   return_tensors='pt')\n",
    "labels.append(sample.input_ids)\n",
    "attn_mask.append(sample.attention_mask)\n",
    "input_ids.append(mlm(sample.input_ids.detach().clone()))\n",
    "\n",
    "\n",
    "\n"
   ]
  },
  {
   "cell_type": "code",
   "execution_count": 15,
   "id": "bd34017a-ac81-42ad-b571-e2e3ae92a363",
   "metadata": {},
   "outputs": [],
   "source": [
    "input_ids = torch.cat(input_ids)\n",
    "attn_mask = torch.cat(attn_mask)\n",
    "labels = torch.cat(labels)"
   ]
  },
  {
   "cell_type": "code",
   "execution_count": 16,
   "id": "5981dba2-77d4-469e-9794-ad185c6c46f7",
   "metadata": {},
   "outputs": [],
   "source": [
    "encodings = {\n",
    "    'input_ids': input_ids,\n",
    "    'attention_mask': attn_mask,\n",
    "    'labels': labels\n",
    "}"
   ]
  },
  {
   "cell_type": "code",
   "execution_count": 17,
   "id": "405f1c94-ae78-401a-a14b-f9590267575c",
   "metadata": {},
   "outputs": [],
   "source": [
    "class Dataset(torch.utils.data.Dataset):\n",
    "    def __init__(self, encodings):\n",
    "        self.encodings = encodings\n",
    "    \n",
    "    def __len__(self):\n",
    "        return self.encodings['input_ids'].shape[0]\n",
    "\n",
    "    def __getitem__(self, i):\n",
    "        return {key: tensor[i] for key, tensor in self.encodings.items()}"
   ]
  },
  {
   "cell_type": "code",
   "execution_count": 18,
   "id": "6503f444-7c60-4583-a0d6-826faf42cf63",
   "metadata": {},
   "outputs": [],
   "source": [
    "dataset = Dataset(encodings)"
   ]
  },
  {
   "cell_type": "code",
   "execution_count": 19,
   "id": "7167436e-96e3-4ddf-9075-b734cd566123",
   "metadata": {},
   "outputs": [],
   "source": [
    "dataloader = torch.utils.data.DataLoader(dataset, batch_size=16, shuffle=True)"
   ]
  },
  {
   "cell_type": "code",
   "execution_count": 20,
   "id": "f1f57d88-ec2a-4e91-8531-71347124f883",
   "metadata": {},
   "outputs": [],
   "source": [
    "config = RobertaConfig(\n",
    "    vocab_size = tokenizer.vocab_size,\n",
    "    max_position_embeddings=514, \n",
    "    hidden_size = 768, \n",
    "    num_attention_heads=12, \n",
    "    num_hidden_layers= 6, \n",
    "    type_vocab_size = 1\n",
    ")"
   ]
  },
  {
   "cell_type": "code",
   "execution_count": 21,
   "id": "b6f695db-16a4-40b4-b869-26f950bb752e",
   "metadata": {},
   "outputs": [],
   "source": [
    "model = RobertaForMaskedLM(config)"
   ]
  },
  {
   "cell_type": "code",
   "execution_count": 22,
   "id": "2bffb3c8-e86a-4297-9663-3f67e43c8562",
   "metadata": {},
   "outputs": [],
   "source": [
    "device = torch.device(\"cuda\"  if torch.cuda.is_available() else \"cpu\")"
   ]
  },
  {
   "cell_type": "code",
   "execution_count": 23,
   "id": "4f6f2902-5046-4239-a590-407210c07201",
   "metadata": {},
   "outputs": [
    {
     "data": {
      "text/plain": [
       "RobertaForMaskedLM(\n",
       "  (roberta): RobertaModel(\n",
       "    (embeddings): RobertaEmbeddings(\n",
       "      (word_embeddings): Embedding(17725, 768, padding_idx=1)\n",
       "      (position_embeddings): Embedding(514, 768, padding_idx=1)\n",
       "      (token_type_embeddings): Embedding(1, 768)\n",
       "      (LayerNorm): LayerNorm((768,), eps=1e-12, elementwise_affine=True)\n",
       "      (dropout): Dropout(p=0.1, inplace=False)\n",
       "    )\n",
       "    (encoder): RobertaEncoder(\n",
       "      (layer): ModuleList(\n",
       "        (0): RobertaLayer(\n",
       "          (attention): RobertaAttention(\n",
       "            (self): RobertaSelfAttention(\n",
       "              (query): Linear(in_features=768, out_features=768, bias=True)\n",
       "              (key): Linear(in_features=768, out_features=768, bias=True)\n",
       "              (value): Linear(in_features=768, out_features=768, bias=True)\n",
       "              (dropout): Dropout(p=0.1, inplace=False)\n",
       "            )\n",
       "            (output): RobertaSelfOutput(\n",
       "              (dense): Linear(in_features=768, out_features=768, bias=True)\n",
       "              (LayerNorm): LayerNorm((768,), eps=1e-12, elementwise_affine=True)\n",
       "              (dropout): Dropout(p=0.1, inplace=False)\n",
       "            )\n",
       "          )\n",
       "          (intermediate): RobertaIntermediate(\n",
       "            (dense): Linear(in_features=768, out_features=3072, bias=True)\n",
       "            (intermediate_act_fn): GELUActivation()\n",
       "          )\n",
       "          (output): RobertaOutput(\n",
       "            (dense): Linear(in_features=3072, out_features=768, bias=True)\n",
       "            (LayerNorm): LayerNorm((768,), eps=1e-12, elementwise_affine=True)\n",
       "            (dropout): Dropout(p=0.1, inplace=False)\n",
       "          )\n",
       "        )\n",
       "        (1): RobertaLayer(\n",
       "          (attention): RobertaAttention(\n",
       "            (self): RobertaSelfAttention(\n",
       "              (query): Linear(in_features=768, out_features=768, bias=True)\n",
       "              (key): Linear(in_features=768, out_features=768, bias=True)\n",
       "              (value): Linear(in_features=768, out_features=768, bias=True)\n",
       "              (dropout): Dropout(p=0.1, inplace=False)\n",
       "            )\n",
       "            (output): RobertaSelfOutput(\n",
       "              (dense): Linear(in_features=768, out_features=768, bias=True)\n",
       "              (LayerNorm): LayerNorm((768,), eps=1e-12, elementwise_affine=True)\n",
       "              (dropout): Dropout(p=0.1, inplace=False)\n",
       "            )\n",
       "          )\n",
       "          (intermediate): RobertaIntermediate(\n",
       "            (dense): Linear(in_features=768, out_features=3072, bias=True)\n",
       "            (intermediate_act_fn): GELUActivation()\n",
       "          )\n",
       "          (output): RobertaOutput(\n",
       "            (dense): Linear(in_features=3072, out_features=768, bias=True)\n",
       "            (LayerNorm): LayerNorm((768,), eps=1e-12, elementwise_affine=True)\n",
       "            (dropout): Dropout(p=0.1, inplace=False)\n",
       "          )\n",
       "        )\n",
       "        (2): RobertaLayer(\n",
       "          (attention): RobertaAttention(\n",
       "            (self): RobertaSelfAttention(\n",
       "              (query): Linear(in_features=768, out_features=768, bias=True)\n",
       "              (key): Linear(in_features=768, out_features=768, bias=True)\n",
       "              (value): Linear(in_features=768, out_features=768, bias=True)\n",
       "              (dropout): Dropout(p=0.1, inplace=False)\n",
       "            )\n",
       "            (output): RobertaSelfOutput(\n",
       "              (dense): Linear(in_features=768, out_features=768, bias=True)\n",
       "              (LayerNorm): LayerNorm((768,), eps=1e-12, elementwise_affine=True)\n",
       "              (dropout): Dropout(p=0.1, inplace=False)\n",
       "            )\n",
       "          )\n",
       "          (intermediate): RobertaIntermediate(\n",
       "            (dense): Linear(in_features=768, out_features=3072, bias=True)\n",
       "            (intermediate_act_fn): GELUActivation()\n",
       "          )\n",
       "          (output): RobertaOutput(\n",
       "            (dense): Linear(in_features=3072, out_features=768, bias=True)\n",
       "            (LayerNorm): LayerNorm((768,), eps=1e-12, elementwise_affine=True)\n",
       "            (dropout): Dropout(p=0.1, inplace=False)\n",
       "          )\n",
       "        )\n",
       "        (3): RobertaLayer(\n",
       "          (attention): RobertaAttention(\n",
       "            (self): RobertaSelfAttention(\n",
       "              (query): Linear(in_features=768, out_features=768, bias=True)\n",
       "              (key): Linear(in_features=768, out_features=768, bias=True)\n",
       "              (value): Linear(in_features=768, out_features=768, bias=True)\n",
       "              (dropout): Dropout(p=0.1, inplace=False)\n",
       "            )\n",
       "            (output): RobertaSelfOutput(\n",
       "              (dense): Linear(in_features=768, out_features=768, bias=True)\n",
       "              (LayerNorm): LayerNorm((768,), eps=1e-12, elementwise_affine=True)\n",
       "              (dropout): Dropout(p=0.1, inplace=False)\n",
       "            )\n",
       "          )\n",
       "          (intermediate): RobertaIntermediate(\n",
       "            (dense): Linear(in_features=768, out_features=3072, bias=True)\n",
       "            (intermediate_act_fn): GELUActivation()\n",
       "          )\n",
       "          (output): RobertaOutput(\n",
       "            (dense): Linear(in_features=3072, out_features=768, bias=True)\n",
       "            (LayerNorm): LayerNorm((768,), eps=1e-12, elementwise_affine=True)\n",
       "            (dropout): Dropout(p=0.1, inplace=False)\n",
       "          )\n",
       "        )\n",
       "        (4): RobertaLayer(\n",
       "          (attention): RobertaAttention(\n",
       "            (self): RobertaSelfAttention(\n",
       "              (query): Linear(in_features=768, out_features=768, bias=True)\n",
       "              (key): Linear(in_features=768, out_features=768, bias=True)\n",
       "              (value): Linear(in_features=768, out_features=768, bias=True)\n",
       "              (dropout): Dropout(p=0.1, inplace=False)\n",
       "            )\n",
       "            (output): RobertaSelfOutput(\n",
       "              (dense): Linear(in_features=768, out_features=768, bias=True)\n",
       "              (LayerNorm): LayerNorm((768,), eps=1e-12, elementwise_affine=True)\n",
       "              (dropout): Dropout(p=0.1, inplace=False)\n",
       "            )\n",
       "          )\n",
       "          (intermediate): RobertaIntermediate(\n",
       "            (dense): Linear(in_features=768, out_features=3072, bias=True)\n",
       "            (intermediate_act_fn): GELUActivation()\n",
       "          )\n",
       "          (output): RobertaOutput(\n",
       "            (dense): Linear(in_features=3072, out_features=768, bias=True)\n",
       "            (LayerNorm): LayerNorm((768,), eps=1e-12, elementwise_affine=True)\n",
       "            (dropout): Dropout(p=0.1, inplace=False)\n",
       "          )\n",
       "        )\n",
       "        (5): RobertaLayer(\n",
       "          (attention): RobertaAttention(\n",
       "            (self): RobertaSelfAttention(\n",
       "              (query): Linear(in_features=768, out_features=768, bias=True)\n",
       "              (key): Linear(in_features=768, out_features=768, bias=True)\n",
       "              (value): Linear(in_features=768, out_features=768, bias=True)\n",
       "              (dropout): Dropout(p=0.1, inplace=False)\n",
       "            )\n",
       "            (output): RobertaSelfOutput(\n",
       "              (dense): Linear(in_features=768, out_features=768, bias=True)\n",
       "              (LayerNorm): LayerNorm((768,), eps=1e-12, elementwise_affine=True)\n",
       "              (dropout): Dropout(p=0.1, inplace=False)\n",
       "            )\n",
       "          )\n",
       "          (intermediate): RobertaIntermediate(\n",
       "            (dense): Linear(in_features=768, out_features=3072, bias=True)\n",
       "            (intermediate_act_fn): GELUActivation()\n",
       "          )\n",
       "          (output): RobertaOutput(\n",
       "            (dense): Linear(in_features=3072, out_features=768, bias=True)\n",
       "            (LayerNorm): LayerNorm((768,), eps=1e-12, elementwise_affine=True)\n",
       "            (dropout): Dropout(p=0.1, inplace=False)\n",
       "          )\n",
       "        )\n",
       "      )\n",
       "    )\n",
       "  )\n",
       "  (lm_head): RobertaLMHead(\n",
       "    (dense): Linear(in_features=768, out_features=768, bias=True)\n",
       "    (layer_norm): LayerNorm((768,), eps=1e-12, elementwise_affine=True)\n",
       "    (decoder): Linear(in_features=768, out_features=17725, bias=True)\n",
       "  )\n",
       ")"
      ]
     },
     "execution_count": 23,
     "metadata": {},
     "output_type": "execute_result"
    }
   ],
   "source": [
    "model.to(device)"
   ]
  },
  {
   "cell_type": "code",
   "execution_count": 24,
   "id": "9df27ce0-addc-4933-899d-b36d5eb61bd2",
   "metadata": {},
   "outputs": [
    {
     "name": "stderr",
     "output_type": "stream",
     "text": [
      "/Users/sannalun/opt/anaconda3/envs/spoonacular/lib/python3.9/site-packages/transformers/optimization.py:306: FutureWarning: This implementation of AdamW is deprecated and will be removed in a future version. Use the PyTorch implementation torch.optim.AdamW instead, or set `no_deprecation_warning=True` to disable this warning\n",
      "  warnings.warn(\n"
     ]
    }
   ],
   "source": [
    "optim = AdamW(model.parameters(), lr=1e-4)"
   ]
  },
  {
   "cell_type": "code",
   "execution_count": 25,
   "id": "730a63d5-6550-4a8d-b5cc-ed571a4a3449",
   "metadata": {},
   "outputs": [
    {
     "name": "stdout",
     "output_type": "stream",
     "text": [
      "huggingface/tokenizers: The current process just got forked, after parallelism has already been used. Disabling parallelism to avoid deadlocks...\n",
      "To disable this warning, you can either:\n",
      "\t- Avoid using `tokenizers` before the fork if possible\n",
      "\t- Explicitly set the environment variable TOKENIZERS_PARALLELISM=(true | false)\n"
     ]
    },
    {
     "name": "stderr",
     "output_type": "stream",
     "text": [
      "Epoch: 2: 100%|█████████████████| 270/270 [6:18:06<00:00, 84.02s/it, loss=0.999]\n"
     ]
    }
   ],
   "source": [
    "epochs = 2\n",
    "\n",
    "loop = tqdm(dataloader, leave=True)\n",
    "\n",
    "for batch in loop:\n",
    "    optim.zero_grad()\n",
    "    \n",
    "    input_ids = batch['input_ids'].to(device)\n",
    "    mask = batch['attention_mask'].to(device)\n",
    "    labels = batch['labels'].to(device)\n",
    "    \n",
    "    outputs = model(input_ids, attention_mask=mask, labels=labels)\n",
    "    loss = outputs.loss\n",
    "    loss.backward()\n",
    "    optim.step()\n",
    "    \n",
    "    loop.set_description(f\"Epoch: {epochs}\")\n",
    "    loop.set_postfix(loss=loss.item())"
   ]
  },
  {
   "cell_type": "code",
   "execution_count": 27,
   "id": "73606b44-6358-42e0-8c70-260557eb7fce",
   "metadata": {},
   "outputs": [],
   "source": [
    "model.save_pretrained('./model')"
   ]
  },
  {
   "cell_type": "markdown",
   "id": "02d76d02-3c5b-4322-b544-6e94ae304706",
   "metadata": {},
   "source": [
    "#### Testing"
   ]
  },
  {
   "cell_type": "code",
   "execution_count": 28,
   "id": "c9f65139-ef4d-4fd2-828b-e70010404a71",
   "metadata": {},
   "outputs": [],
   "source": [
    "fill = pipeline(\"fill-mask\", \n",
    "                model=\"model\", \n",
    "                tokenizer=\"recipe_tokenizer\", \n",
    "                top_k=5)"
   ]
  },
  {
   "cell_type": "code",
   "execution_count": 38,
   "id": "7dce7419-22d4-449c-9795-fdf7428682ee",
   "metadata": {},
   "outputs": [
    {
     "data": {
      "text/plain": [
       "[{'score': 0.10166112333536148,\n",
       "  'token': 225,\n",
       "  'token_str': ' ',\n",
       "  'sequence': 'yummy  pasta'},\n",
       " {'score': 0.042107418179512024,\n",
       "  'token': 274,\n",
       "  'token_str': ' and',\n",
       "  'sequence': 'yummy and pasta'},\n",
       " {'score': 0.02661365643143654,\n",
       "  'token': 291,\n",
       "  'token_str': ' to',\n",
       "  'sequence': 'yummy to pasta'},\n",
       " {'score': 0.026019858196377754,\n",
       "  'token': 278,\n",
       "  'token_str': ' the',\n",
       "  'sequence': 'yummy the pasta'},\n",
       " {'score': 0.025529174134135246,\n",
       "  'token': 31,\n",
       "  'token_str': ';',\n",
       "  'sequence': 'yummy; pasta'}]"
      ]
     },
     "execution_count": 38,
     "metadata": {},
     "output_type": "execute_result"
    }
   ],
   "source": [
    "fill(f\"yummy {fill.tokenizer.mask_token} pasta\")"
   ]
  },
  {
   "cell_type": "code",
   "execution_count": 35,
   "id": "f24021a2-9fc9-4093-9a7e-8004e36b9362",
   "metadata": {},
   "outputs": [],
   "source": [
    "fill2 = FillMaskPipeline(model=model, \n",
    "                tokenizer=tokenizer, \n",
    "                top_k=5)"
   ]
  },
  {
   "cell_type": "code",
   "execution_count": 39,
   "id": "61070e2d-c76e-45a7-84bb-01c4c09c876c",
   "metadata": {},
   "outputs": [
    {
     "data": {
      "text/plain": [
       "[{'score': 0.06521295756101608,\n",
       "  'token': 225,\n",
       "  'token_str': ' ',\n",
       "  'sequence': 'vegan  pasta'},\n",
       " {'score': 0.05326294153928757,\n",
       "  'token': 274,\n",
       "  'token_str': ' and',\n",
       "  'sequence': 'vegan and pasta'},\n",
       " {'score': 0.04045328125357628,\n",
       "  'token': 31,\n",
       "  'token_str': ';',\n",
       "  'sequence': 'vegan; pasta'},\n",
       " {'score': 0.03585265949368477,\n",
       "  'token': 291,\n",
       "  'token_str': ' to',\n",
       "  'sequence': 'vegan to pasta'},\n",
       " {'score': 0.02414020150899887,\n",
       "  'token': 278,\n",
       "  'token_str': ' the',\n",
       "  'sequence': 'vegan the pasta'}]"
      ]
     },
     "execution_count": 39,
     "metadata": {},
     "output_type": "execute_result"
    }
   ],
   "source": [
    "fill2(f\"vegan {fill.tokenizer.mask_token} pasta\")"
   ]
  },
  {
   "cell_type": "markdown",
   "id": "9fcbd3c8-dadc-4e2f-8bc5-0f6100059a0f",
   "metadata": {},
   "source": [
    "## Using pre-trained embedding"
   ]
  },
  {
   "cell_type": "code",
   "execution_count": 24,
   "id": "261abf85-0726-4d5d-a5c8-29669c1c5caa",
   "metadata": {},
   "outputs": [],
   "source": [
    "nlp = spacy.load('en_core_web_lg')"
   ]
  },
  {
   "cell_type": "code",
   "execution_count": 262,
   "id": "4bee7947-e67c-4ca0-a7b7-ebd793035bc0",
   "metadata": {},
   "outputs": [],
   "source": [
    "all_docs = []\n",
    "for recipe in sentences:\n",
    "    # for word in recipe:\n",
    "    recipe = \" \".join(recipe)\n",
    "    all_docs.append(nlp(recipe))"
   ]
  },
  {
   "cell_type": "code",
   "execution_count": 28,
   "id": "1840f6a0-b919-49a0-92c8-8faaaa8221d9",
   "metadata": {},
   "outputs": [
    {
     "data": {
      "text/plain": [
       "array([-0.47621  , -0.12565  ,  0.57201  , -0.41622  ,  0.087897 ,\n",
       "        0.94786  ,  0.17435  ,  0.38734  ,  0.076891 ,  0.54134  ,\n",
       "       -0.83674  ,  0.89006  ,  0.16874  , -0.20026  ,  0.3535   ,\n",
       "       -0.52456  , -0.48566  ,  1.4866   ,  0.12526  ,  0.18175  ,\n",
       "        0.13386  , -0.6219   ,  0.14722  ,  0.25752  ,  0.01989  ,\n",
       "       -0.26677  , -0.52299  , -0.26495  ,  0.26422  , -0.46492  ,\n",
       "        0.52974  ,  0.17449  ,  0.23151  , -0.5197   ,  0.50632  ,\n",
       "        0.38656  ,  0.30754  , -0.20152  ,  0.38965  ,  1.3301   ,\n",
       "       -0.11162  ,  0.48363  ,  0.14996  , -0.25947  , -0.10856  ,\n",
       "        0.87353  , -0.19608  ,  0.86464  , -0.10013  ,  0.049008 ,\n",
       "       -0.36184  , -0.29676  ,  0.48032  , -0.073478 ,  0.02197  ,\n",
       "       -0.51162  ,  0.19295  ,  0.27889  ,  0.095985 ,  0.4911   ,\n",
       "        0.048671 , -0.20332  , -0.27704  , -0.39282  , -0.19507  ,\n",
       "       -1.3053   ,  0.23504  ,  0.33168  , -0.10465  ,  0.77648  ,\n",
       "       -0.21061  ,  0.77946  , -0.22824  ,  0.14612  , -0.85569  ,\n",
       "        0.054422 , -0.28692  ,  0.5402   ,  0.11952  , -0.070369 ,\n",
       "        0.069934 , -0.29487  ,  0.32621  , -0.83527  , -0.061418 ,\n",
       "       -0.058424 ,  0.94997  ,  0.57794  ,  0.33499  ,  0.24598  ,\n",
       "        0.047756 , -0.55713  ,  0.22332  ,  0.084717 ,  0.22644  ,\n",
       "        0.65859  ,  0.049028 , -0.11221  ,  0.51254  , -0.040009 ,\n",
       "       -0.66862  ,  0.15812  ,  0.085276 ,  0.21765  , -0.30608  ,\n",
       "       -0.90538  ,  0.21388  , -0.42194  ,  0.55564  ,  0.14281  ,\n",
       "        0.069081 , -1.0176   , -0.82044  , -0.38582  ,  0.41487  ,\n",
       "       -0.58683  ,  0.096396 , -0.05817  ,  0.17549  ,  0.27849  ,\n",
       "        0.11133  ,  0.67103  ,  0.062272 ,  0.10297  ,  0.57252  ,\n",
       "       -0.43965  ,  0.888    ,  0.080017 ,  0.0032426,  0.58573  ,\n",
       "       -0.36059  , -0.32987  ,  0.1296   ,  0.81703  , -0.13335  ,\n",
       "       -0.22856  , -0.060802 , -0.72554  , -0.1525   , -0.13079  ,\n",
       "       -2.1209   , -0.18691  , -0.007406 ,  0.64517  ,  0.14187  ,\n",
       "       -0.58766  , -0.5937   ,  0.16485  ,  0.19509  ,  0.36636  ,\n",
       "        0.90655  , -0.17039  ,  0.59113  ,  0.27014  , -0.061715 ,\n",
       "       -0.55461  , -0.0306   , -0.20424  ,  0.1832   ,  0.33701  ,\n",
       "       -0.5323   ,  0.40482  , -0.42817  ,  0.27938  ,  0.065134 ,\n",
       "       -0.6161   ,  0.023246 ,  0.1303   ,  0.50917  , -0.016364 ,\n",
       "       -0.040192 , -0.16108  ,  0.25804  , -0.59529  , -1.1457   ,\n",
       "       -0.57744  ,  0.33045  , -0.24652  , -0.5329   , -0.0359   ,\n",
       "       -0.17326  , -0.50477  , -0.16055  ,  0.31845  , -0.14723  ,\n",
       "       -0.51331  ,  0.23707  , -0.49162  , -0.76227  , -0.441    ,\n",
       "       -0.35453  ,  0.1421   , -0.51655  , -0.22147  , -0.1438   ,\n",
       "       -0.0088183,  0.59306  ,  0.67377  ,  0.015844 ,  0.16767  ,\n",
       "       -0.23656  ,  0.16512  , -0.13847  ,  0.20333  ,  0.1261   ,\n",
       "        0.3755   , -0.17337  ,  0.2167   ,  0.56399  ,  0.21744  ,\n",
       "       -0.10656  ,  0.055422 ,  0.15225  , -0.062882 ,  0.1761   ,\n",
       "        0.1201   ,  0.55479  ,  0.26977  , -0.36272  ,  0.56688  ,\n",
       "        0.026047 ,  0.33945  , -0.019117 ,  0.43021  ,  0.43344  ,\n",
       "       -0.1867   , -0.40298  , -0.28966  , -0.75013  , -0.031538 ,\n",
       "       -0.46271  ,  0.27083  , -0.077769 , -0.060362 , -0.051176 ,\n",
       "       -0.79778  , -0.079256 , -0.16546  , -0.48865  ,  0.14985  ,\n",
       "       -0.014271 ,  0.50028  , -0.71402  , -0.81392  ,  0.15301  ,\n",
       "        0.55562  , -0.22583  , -0.64332  , -0.69742  , -0.27444  ,\n",
       "        0.20932  ,  0.27775  , -0.26245  , -0.21302  ,  0.31199  ,\n",
       "        0.77665  ,  0.092184 ,  0.64089  , -0.24403  , -0.051315 ,\n",
       "       -0.10059  , -0.072357 , -0.25218  , -0.2922   , -0.20471  ,\n",
       "        0.66377  , -0.01561  , -0.58069  , -1.0092   , -0.1118   ,\n",
       "        0.21998  , -0.30814  , -0.3655   ,  0.05396  , -0.59413  ,\n",
       "        0.31169  , -0.2915   , -0.41488  ,  0.18759  ,  0.36051  ,\n",
       "        0.65372  , -0.22571  ,  0.072316 , -0.57832  ,  0.0797   ,\n",
       "        0.91796  ,  0.4814   ,  0.57937  , -0.077704 , -0.0049958,\n",
       "        0.59354  ,  0.59322  , -0.1177   , -0.13719  , -0.36819  ,\n",
       "       -0.38176  , -0.004386 , -0.65868  ,  0.119    ,  0.33215  ],\n",
       "      dtype=float32)"
      ]
     },
     "execution_count": 28,
     "metadata": {},
     "output_type": "execute_result"
    }
   ],
   "source": [
    "nlp.vocab[\"pasta\"].vector"
   ]
  },
  {
   "cell_type": "code",
   "execution_count": 149,
   "id": "35c036ee-5ebc-4249-b1f4-53c788720409",
   "metadata": {},
   "outputs": [
    {
     "data": {
      "text/plain": [
       "[]"
      ]
     },
     "execution_count": 149,
     "metadata": {},
     "output_type": "execute_result"
    }
   ],
   "source": [
    "def most_similar(word, topn=5):\n",
    "    word = nlp.vocab[str(word)]\n",
    "    \n",
    "    # for w in word.vocab:\n",
    "        # print(w.is_lower, word.is_lower, w.prob)\n",
    "    queries = [\n",
    "        w for w in word.vocab \n",
    "        if w.is_lower == word.is_lower and w.prob >= -15 and np.count_nonzero(w.vector)\n",
    "    ]\n",
    "\n",
    "    by_similarity = sorted(queries, key=lambda w: word.similarity(w), reverse=True)\n",
    "    return [(w.lower_,w.similarity(word)) for w in by_similarity[:topn+1] if w.lower_ != word.lower_]\n",
    "\n",
    "most_similar(\"dog\", topn=3)"
   ]
  },
  {
   "cell_type": "code",
   "execution_count": 17,
   "id": "ac6fa3a2-c4df-47b4-a8f2-d25e1f6d7b4b",
   "metadata": {},
   "outputs": [
    {
     "data": {
      "text/plain": [
       "<spacy.lexeme.Lexeme at 0x7fed41b99ac0>"
      ]
     },
     "execution_count": 17,
     "metadata": {},
     "output_type": "execute_result"
    }
   ],
   "source": [
    "nlp.vocab[\"pesto\"]"
   ]
  },
  {
   "cell_type": "code",
   "execution_count": 290,
   "id": "d5502378-2fa2-456f-ae2a-cb8900c4dfec",
   "metadata": {},
   "outputs": [],
   "source": [
    "test = [s for s in sentences]"
   ]
  },
  {
   "cell_type": "code",
   "execution_count": 293,
   "id": "7d7b7976-b1a1-40f2-9b02-2dc5563146f2",
   "metadata": {},
   "outputs": [
    {
     "data": {
      "text/plain": [
       "'roasted butternut squash bisque roasted butternut squash bisque could gluten free lacto ovo vegetarian recipe looking recipe serves 6 costs 5 1 per serving one serving contains 575 calories 6g protein 28g fat mixture coursely garlic salt bay leaves handful ingredients takes make recipe delicious recipe foodista 1 fans preparation plate recipe takes approximately approximately 45 minutes works well expensive soup taking factors account recipe earns spoonacular score 63 solid users liked recipe also liked roasted butternut squash bisque frangelico roasted butternut squash bisque sage cream butternut squash bisque garlic broth add ingredients stock bring boil reduce heat cover simmer 30 minutes strain cheesecloth use immediately soup freeze individual portions tip freezing broth ice cube trays allows use small portions time butternut squash soup cut squash half lengthwise scoop seeds quarter squash large place olive oil coated squash flesh side tray roasting roast top rack oven 425 degrees tender roughly 45 50 minutes sure use cookie tray least 1 2 inch lip squash give lot water pour generous amount olive oil cover bottom stock pot heat low medium heat add chopped onion cook translucent clean fennel bulb fern fern top finely leafed portion fennel cold water pat dry detach fern stems discarding stems pithy chop bulb discarding tough outer layer add chopped fennel bulb onion continue saut low heat stirring occasionally turn heat medium add 1 cup white wine onion fennel cook alcohol burns approximately 4 5 minutes seed quarter red bell peppers coat olive oil place cookie sheet flash side roast 20 minutes skins blistered started brown trick removing skins peppers remove peppers oven immediately place bowl cover cellophane let sit least 15 minutes skins peel easily meanwhile add vegetable garlic broth pot onions fennel cover bring slow boil mince several sage leaves add pot reduce simmer squash done scoop flesh peel add pot add remaining cup wine add cinnamon cayenne pepper curry powder ginger powder remove soup heat puree hand mixer immersion blender thoroughly mixed transfer food processor smoother texture many recipes call cream point create silkiness want bisque type soup little extra work eliminate need dairy products get creamy smooth texture without fat even silkier texture go one step work soup sieve spoon one completely okay texture soup without extra step garnish bowl leftover fennel fern enjoy extra virgin olive oil butter sweet onions fennel bulb butternut squash red bell pepper white wine fresh sage ginger powder cayenne pepper curry powder broth broth garlic bay leaves olive oil dried sage dried thyme oregano salt Produce Spices Seasonings Alcoholic Beverages Milk Eggs Other Dairy Spices Seasonings Produce Canned Jarred Oil Vinegar Salad Dressing gluten free lacto ovo vegetarian primal gluten-free lacto-ovo-vegetarian primal vegetarian gluten-free'"
      ]
     },
     "execution_count": 293,
     "metadata": {},
     "output_type": "execute_result"
    }
   ],
   "source": [
    "\" \".join(test[0])"
   ]
  },
  {
   "cell_type": "code",
   "execution_count": 299,
   "id": "7ec30507-2e44-4c57-9f6d-4b186bb04c00",
   "metadata": {},
   "outputs": [
    {
     "name": "stdout",
     "output_type": "stream",
     "text": [
      "[('e', 'NN')]\n"
     ]
    }
   ],
   "source": [
    "from nltk.tokenize import word_tokenize, sent_tokenize\n",
    "txt = \" \".join(test[0])\n",
    " \n",
    "# sent_tokenize is one of instances of\n",
    "# PunktSentenceTokenizer from the nltk.tokenize.punkt module\n",
    " \n",
    "tokenized = sent_tokenize(txt)\n",
    "for i in txt:\n",
    "     \n",
    "    # Word tokenizers is used to find the words\n",
    "    # and punctuation in a string\n",
    "    wordsList = nltk.word_tokenize(i)\n",
    " \n",
    "    # removing stop words from wordList\n",
    "    wordsList = [w for w in wordsList if not w in stop_words]\n",
    " \n",
    "    #  Using a Tagger. Which is part-of-speech\n",
    "    # tagger or POS-tagger.\n",
    "    tagged = nltk.pos_tag(wordsList)\n",
    "print(tagged)"
   ]
  },
  {
   "cell_type": "code",
   "execution_count": 300,
   "id": "2a3c8b02-84b9-45fb-92d4-0db5a4c9fd9e",
   "metadata": {},
   "outputs": [
    {
     "data": {
      "text/plain": [
       "'roasted butternut squash bisque roasted butternut squash bisque could gluten free lacto ovo vegetarian recipe looking recipe serves 6 costs 5 1 per serving one serving contains 575 calories 6g protein 28g fat mixture coursely garlic salt bay leaves handful ingredients takes make recipe delicious recipe foodista 1 fans preparation plate recipe takes approximately approximately 45 minutes works well expensive soup taking factors account recipe earns spoonacular score 63 solid users liked recipe also liked roasted butternut squash bisque frangelico roasted butternut squash bisque sage cream butternut squash bisque garlic broth add ingredients stock bring boil reduce heat cover simmer 30 minutes strain cheesecloth use immediately soup freeze individual portions tip freezing broth ice cube trays allows use small portions time butternut squash soup cut squash half lengthwise scoop seeds quarter squash large place olive oil coated squash flesh side tray roasting roast top rack oven 425 degrees tender roughly 45 50 minutes sure use cookie tray least 1 2 inch lip squash give lot water pour generous amount olive oil cover bottom stock pot heat low medium heat add chopped onion cook translucent clean fennel bulb fern fern top finely leafed portion fennel cold water pat dry detach fern stems discarding stems pithy chop bulb discarding tough outer layer add chopped fennel bulb onion continue saut low heat stirring occasionally turn heat medium add 1 cup white wine onion fennel cook alcohol burns approximately 4 5 minutes seed quarter red bell peppers coat olive oil place cookie sheet flash side roast 20 minutes skins blistered started brown trick removing skins peppers remove peppers oven immediately place bowl cover cellophane let sit least 15 minutes skins peel easily meanwhile add vegetable garlic broth pot onions fennel cover bring slow boil mince several sage leaves add pot reduce simmer squash done scoop flesh peel add pot add remaining cup wine add cinnamon cayenne pepper curry powder ginger powder remove soup heat puree hand mixer immersion blender thoroughly mixed transfer food processor smoother texture many recipes call cream point create silkiness want bisque type soup little extra work eliminate need dairy products get creamy smooth texture without fat even silkier texture go one step work soup sieve spoon one completely okay texture soup without extra step garnish bowl leftover fennel fern enjoy extra virgin olive oil butter sweet onions fennel bulb butternut squash red bell pepper white wine fresh sage ginger powder cayenne pepper curry powder broth broth garlic bay leaves olive oil dried sage dried thyme oregano salt Produce Spices Seasonings Alcoholic Beverages Milk Eggs Other Dairy Spices Seasonings Produce Canned Jarred Oil Vinegar Salad Dressing gluten free lacto ovo vegetarian primal gluten-free lacto-ovo-vegetarian primal vegetarian gluten-free'"
      ]
     },
     "execution_count": 300,
     "metadata": {},
     "output_type": "execute_result"
    }
   ],
   "source": [
    "txt"
   ]
  },
  {
   "cell_type": "code",
   "execution_count": null,
   "id": "cc8c24e0-231a-4bd9-b728-e952746a5722",
   "metadata": {},
   "outputs": [],
   "source": []
  }
 ],
 "metadata": {
  "kernelspec": {
   "display_name": "Python 3 (ipykernel)",
   "language": "python",
   "name": "python3"
  },
  "language_info": {
   "codemirror_mode": {
    "name": "ipython",
    "version": 3
   },
   "file_extension": ".py",
   "mimetype": "text/x-python",
   "name": "python",
   "nbconvert_exporter": "python",
   "pygments_lexer": "ipython3",
   "version": "3.9.7"
  }
 },
 "nbformat": 4,
 "nbformat_minor": 5
}
