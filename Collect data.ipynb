{
 "cells": [
  {
   "cell_type": "code",
   "execution_count": 6,
   "id": "d52cef2f-e2de-4a47-a8ea-721e795f7c7a",
   "metadata": {},
   "outputs": [],
   "source": [
    "import requests\n",
    "import json"
   ]
  },
  {
   "cell_type": "code",
   "execution_count": 17,
   "id": "e1a48df7-9235-4d59-a30b-5a6eeeb17a7e",
   "metadata": {},
   "outputs": [],
   "source": [
    "API_KEY = \"\"\n",
    "with open(\"apikey.json\") as f:\n",
    "    content = f.read()\n",
    "    API_KEY = json.loads(content)['apikey']"
   ]
  },
  {
   "cell_type": "code",
   "execution_count": 18,
   "id": "66c55d8f-4367-4163-be74-b0045f0e2edb",
   "metadata": {},
   "outputs": [
    {
     "data": {
      "text/plain": [
       "<Response [200]>"
      ]
     },
     "execution_count": 18,
     "metadata": {},
     "output_type": "execute_result"
    }
   ],
   "source": [
    "res = requests.get(f\"https://api.spoonacular.com/mealplanner/generate?apiKey={API_KEY}&timeFrame=day&targetCalories=2000\")\n",
    "res"
   ]
  },
  {
   "cell_type": "code",
   "execution_count": 19,
   "id": "354bc480-68ef-4d29-9cdf-c6507bb44c9f",
   "metadata": {},
   "outputs": [
    {
     "data": {
      "text/plain": [
       "{'meals': [{'id': 399269,\n",
       "   'imageType': 'jpg',\n",
       "   'title': 'Chocolate Cupcake Cones',\n",
       "   'readyInMinutes': 50,\n",
       "   'servings': 36,\n",
       "   'sourceUrl': 'http://www.tasteofhome.com/recipes/chocolate-cupcake-cones'},\n",
       "  {'id': 1100455,\n",
       "   'imageType': 'jpg',\n",
       "   'title': 'Margherita Panini with Garlic',\n",
       "   'readyInMinutes': 10,\n",
       "   'servings': 2,\n",
       "   'sourceUrl': 'http://littlespicejar.com/margherita-panini-with-garlic/'},\n",
       "  {'id': 320038,\n",
       "   'imageType': 'jpeg',\n",
       "   'title': 'Salty Caramel Panna Cotta',\n",
       "   'readyInMinutes': 160,\n",
       "   'servings': 8,\n",
       "   'sourceUrl': 'http://www.foodnetwork.com/recipes/salty-caramel-panna-cotta-recipe.html'}],\n",
       " 'nutrients': {'calories': 1999.91,\n",
       "  'protein': 39.8,\n",
       "  'fat': 139.35,\n",
       "  'carbohydrates': 160.71}}"
      ]
     },
     "execution_count": 19,
     "metadata": {},
     "output_type": "execute_result"
    }
   ],
   "source": [
    "json.loads(res.content)"
   ]
  },
  {
   "cell_type": "markdown",
   "id": "ba3d7127-04a2-4080-a0eb-282982fa64ce",
   "metadata": {},
   "source": [
    "##  (1) summarisation by producing a text summary of the recipes"
   ]
  },
  {
   "cell_type": "markdown",
   "id": "256abbf7-74d8-4564-9c1d-e7cb3887656c",
   "metadata": {},
   "source": [
    "## (2) summarisation by producing a list of classes to which the recipes belong (e.g. vegan, oven-free)"
   ]
  },
  {
   "cell_type": "markdown",
   "id": "e2c0d893-48c7-498d-b370-47ab5541fd79",
   "metadata": {},
   "source": [
    "## (3) summarisation by predicting numeric characteristic (e.g. preparation time)"
   ]
  },
  {
   "cell_type": "code",
   "execution_count": null,
   "id": "8b5e432c-516b-4114-915c-89d45187eb78",
   "metadata": {},
   "outputs": [],
   "source": []
  }
 ],
 "metadata": {
  "kernelspec": {
   "display_name": "Python 3 (ipykernel)",
   "language": "python",
   "name": "python3"
  },
  "language_info": {
   "codemirror_mode": {
    "name": "ipython",
    "version": 3
   },
   "file_extension": ".py",
   "mimetype": "text/x-python",
   "name": "python",
   "nbconvert_exporter": "python",
   "pygments_lexer": "ipython3",
   "version": "3.9.7"
  }
 },
 "nbformat": 4,
 "nbformat_minor": 5
}
